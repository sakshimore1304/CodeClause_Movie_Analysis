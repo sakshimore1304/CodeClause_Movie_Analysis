{
  "nbformat": 4,
  "nbformat_minor": 0,
  "metadata": {
    "colab": {
      "provenance": []
    },
    "kernelspec": {
      "name": "python3",
      "display_name": "Python 3"
    },
    "language_info": {
      "name": "python"
    },
    "widgets": {
      "application/vnd.jupyter.widget-state+json": {
        "05519dbb866144d6bd68e44deb3e116e": {
          "model_module": "@jupyter-widgets/controls",
          "model_name": "VBoxModel",
          "model_module_version": "1.5.0",
          "state": {
            "_dom_classes": [
              "widget-interact"
            ],
            "_model_module": "@jupyter-widgets/controls",
            "_model_module_version": "1.5.0",
            "_model_name": "VBoxModel",
            "_view_count": null,
            "_view_module": "@jupyter-widgets/controls",
            "_view_module_version": "1.5.0",
            "_view_name": "VBoxView",
            "box_style": "",
            "children": [
              "IPY_MODEL_09c27014e55849d3bd90e39168742738",
              "IPY_MODEL_9cda2ce138ce484b9148ca44dfd01fed"
            ],
            "layout": "IPY_MODEL_4b897e8b9f2049509eb40904d660a851"
          }
        },
        "09c27014e55849d3bd90e39168742738": {
          "model_module": "@jupyter-widgets/controls",
          "model_name": "DropdownModel",
          "model_module_version": "1.5.0",
          "state": {
            "_dom_classes": [],
            "_model_module": "@jupyter-widgets/controls",
            "_model_module_version": "1.5.0",
            "_model_name": "DropdownModel",
            "_options_labels": [
              "30",
              "29",
              "28",
              "27",
              "26",
              "25",
              "24",
              "23"
            ],
            "_view_count": null,
            "_view_module": "@jupyter-widgets/controls",
            "_view_module_version": "1.5.0",
            "_view_name": "DropdownView",
            "description": "day_req",
            "description_tooltip": null,
            "disabled": false,
            "index": 0,
            "layout": "IPY_MODEL_1e101bfbc58547e3a996cd2f08528cb7",
            "style": "IPY_MODEL_c600e2f768364160b28d6550b70734be"
          }
        },
        "9cda2ce138ce484b9148ca44dfd01fed": {
          "model_module": "@jupyter-widgets/output",
          "model_name": "OutputModel",
          "model_module_version": "1.0.0",
          "state": {
            "_dom_classes": [],
            "_model_module": "@jupyter-widgets/output",
            "_model_module_version": "1.0.0",
            "_model_name": "OutputModel",
            "_view_count": null,
            "_view_module": "@jupyter-widgets/output",
            "_view_module_version": "1.0.0",
            "_view_name": "OutputView",
            "layout": "IPY_MODEL_098e171a708f4203a9e79c2bb06536b1",
            "msg_id": "",
            "outputs": [
              {
                "output_type": "display_data",
                "data": {
                  "text/plain": "<Figure size 1000x600 with 1 Axes>",
                  "image/png": "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\n"
                },
                "metadata": {}
              }
            ]
          }
        },
        "4b897e8b9f2049509eb40904d660a851": {
          "model_module": "@jupyter-widgets/base",
          "model_name": "LayoutModel",
          "model_module_version": "1.2.0",
          "state": {
            "_model_module": "@jupyter-widgets/base",
            "_model_module_version": "1.2.0",
            "_model_name": "LayoutModel",
            "_view_count": null,
            "_view_module": "@jupyter-widgets/base",
            "_view_module_version": "1.2.0",
            "_view_name": "LayoutView",
            "align_content": null,
            "align_items": null,
            "align_self": null,
            "border": null,
            "bottom": null,
            "display": null,
            "flex": null,
            "flex_flow": null,
            "grid_area": null,
            "grid_auto_columns": null,
            "grid_auto_flow": null,
            "grid_auto_rows": null,
            "grid_column": null,
            "grid_gap": null,
            "grid_row": null,
            "grid_template_areas": null,
            "grid_template_columns": null,
            "grid_template_rows": null,
            "height": null,
            "justify_content": null,
            "justify_items": null,
            "left": null,
            "margin": null,
            "max_height": null,
            "max_width": null,
            "min_height": null,
            "min_width": null,
            "object_fit": null,
            "object_position": null,
            "order": null,
            "overflow": null,
            "overflow_x": null,
            "overflow_y": null,
            "padding": null,
            "right": null,
            "top": null,
            "visibility": null,
            "width": null
          }
        },
        "1e101bfbc58547e3a996cd2f08528cb7": {
          "model_module": "@jupyter-widgets/base",
          "model_name": "LayoutModel",
          "model_module_version": "1.2.0",
          "state": {
            "_model_module": "@jupyter-widgets/base",
            "_model_module_version": "1.2.0",
            "_model_name": "LayoutModel",
            "_view_count": null,
            "_view_module": "@jupyter-widgets/base",
            "_view_module_version": "1.2.0",
            "_view_name": "LayoutView",
            "align_content": null,
            "align_items": null,
            "align_self": null,
            "border": null,
            "bottom": null,
            "display": null,
            "flex": null,
            "flex_flow": null,
            "grid_area": null,
            "grid_auto_columns": null,
            "grid_auto_flow": null,
            "grid_auto_rows": null,
            "grid_column": null,
            "grid_gap": null,
            "grid_row": null,
            "grid_template_areas": null,
            "grid_template_columns": null,
            "grid_template_rows": null,
            "height": null,
            "justify_content": null,
            "justify_items": null,
            "left": null,
            "margin": null,
            "max_height": null,
            "max_width": null,
            "min_height": null,
            "min_width": null,
            "object_fit": null,
            "object_position": null,
            "order": null,
            "overflow": null,
            "overflow_x": null,
            "overflow_y": null,
            "padding": null,
            "right": null,
            "top": null,
            "visibility": null,
            "width": null
          }
        },
        "c600e2f768364160b28d6550b70734be": {
          "model_module": "@jupyter-widgets/controls",
          "model_name": "DescriptionStyleModel",
          "model_module_version": "1.5.0",
          "state": {
            "_model_module": "@jupyter-widgets/controls",
            "_model_module_version": "1.5.0",
            "_model_name": "DescriptionStyleModel",
            "_view_count": null,
            "_view_module": "@jupyter-widgets/base",
            "_view_module_version": "1.2.0",
            "_view_name": "StyleView",
            "description_width": ""
          }
        },
        "098e171a708f4203a9e79c2bb06536b1": {
          "model_module": "@jupyter-widgets/base",
          "model_name": "LayoutModel",
          "model_module_version": "1.2.0",
          "state": {
            "_model_module": "@jupyter-widgets/base",
            "_model_module_version": "1.2.0",
            "_model_name": "LayoutModel",
            "_view_count": null,
            "_view_module": "@jupyter-widgets/base",
            "_view_module_version": "1.2.0",
            "_view_name": "LayoutView",
            "align_content": null,
            "align_items": null,
            "align_self": null,
            "border": null,
            "bottom": null,
            "display": null,
            "flex": null,
            "flex_flow": null,
            "grid_area": null,
            "grid_auto_columns": null,
            "grid_auto_flow": null,
            "grid_auto_rows": null,
            "grid_column": null,
            "grid_gap": null,
            "grid_row": null,
            "grid_template_areas": null,
            "grid_template_columns": null,
            "grid_template_rows": null,
            "height": null,
            "justify_content": null,
            "justify_items": null,
            "left": null,
            "margin": null,
            "max_height": null,
            "max_width": null,
            "min_height": null,
            "min_width": null,
            "object_fit": null,
            "object_position": null,
            "order": null,
            "overflow": null,
            "overflow_x": null,
            "overflow_y": null,
            "padding": null,
            "right": null,
            "top": null,
            "visibility": null,
            "width": null
          }
        }
      }
    }
  },
  "cells": [
    {
      "cell_type": "markdown",
      "source": [
        "## **ADIPURUSH MOVIE ANALYSIS**"
      ],
      "metadata": {
        "id": "3tqpX17Xfc8_"
      }
    },
    {
      "cell_type": "markdown",
      "source": [
        "this analysis is done by Sakshi K More"
      ],
      "metadata": {
        "id": "Yop0APV3fjfy"
      }
    },
    {
      "cell_type": "markdown",
      "source": [
        "loading all the required libraries"
      ],
      "metadata": {
        "id": "QVuIylztfsUS"
      }
    },
    {
      "cell_type": "code",
      "source": [
        "import pandas as pd\n",
        "import numpy as np\n",
        "import matplotlib.pyplot as plt\n",
        "import seaborn as sns\n",
        "from datetime import datetime\n",
        "from wordcloud import WordCloud\n",
        "from langdetect import detect\n",
        "from textblob import TextBlob\n",
        "import nltk\n",
        "from nltk.tokenize import word_tokenize\n",
        "from nltk.stem import PorterStemmer\n",
        "from nltk.corpus import stopwords\n",
        "nltk.download('stopwords')\n",
        "import string\n",
        "from ipywidgets import interact\n",
        "from sklearn.feature_extraction.text import TfidfVectorizer\n",
        "from sklearn.metrics import accuracy_score\n",
        "from sklearn.naive_bayes import GaussianNB\n",
        "import streamlit as st\n",
        "from sklearn.model_selection import train_test_split\n",
        "from sklearn.linear_model import LogisticRegression\n",
        "from sklearn.tree import DecisionTreeClassifier\n",
        "from sklearn.ensemble import RandomForestClassifier"
      ],
      "metadata": {
        "colab": {
          "base_uri": "https://localhost:8080/"
        },
        "id": "BG77HShGexvX",
        "outputId": "86ea9224-2a2d-40f3-d052-d1fda4866dcd"
      },
      "execution_count": 87,
      "outputs": [
        {
          "output_type": "stream",
          "name": "stderr",
          "text": [
            "[nltk_data] Downloading package stopwords to /root/nltk_data...\n",
            "[nltk_data]   Package stopwords is already up-to-date!\n"
          ]
        }
      ]
    },
    {
      "cell_type": "code",
      "source": [],
      "metadata": {
        "id": "So4tgHSZIM0N"
      },
      "execution_count": 87,
      "outputs": []
    },
    {
      "cell_type": "markdown",
      "source": [
        "loading the movie dataset"
      ],
      "metadata": {
        "id": "XL6TP7jHgQUl"
      }
    },
    {
      "cell_type": "code",
      "source": [
        "data=pd.read_csv(\"adipurush_tweets.csv\")\n",
        "data.head()"
      ],
      "metadata": {
        "colab": {
          "base_uri": "https://localhost:8080/",
          "height": 206
        },
        "id": "g5mHaqM_e-FC",
        "outputId": "17406c53-b98d-439d-9db9-1a7c6e0076e6"
      },
      "execution_count": 7,
      "outputs": [
        {
          "output_type": "execute_result",
          "data": {
            "text/plain": [
              "                Date Created  Number of Likes  Source of Tweet  \\\n",
              "0  2023-06-30 09:21:00+00:00                0              NaN   \n",
              "1  2023-06-30 09:20:57+00:00                0              NaN   \n",
              "2  2023-06-30 09:20:22+00:00                0              NaN   \n",
              "3  2023-06-30 09:20:00+00:00                3              NaN   \n",
              "4  2023-06-30 09:15:22+00:00                3              NaN   \n",
              "\n",
              "                                              Tweets  \n",
              "0  #ENGvAUS #ENGvsAUS #AUSvENG #AUSvsENG #Adipuru...  \n",
              "1  Now Playing!! Book Your Ticket Now!! 🎥🍿🎟️\\n@go...  \n",
              "2                             @ponilemova #Adipurush  \n",
              "3  Adipurush VS 72 Hoorain VS The Kerala Story Co...  \n",
              "4             ST: #Adipurush https://t.co/lsGKcgQuKL  "
            ],
            "text/html": [
              "\n",
              "  <div id=\"df-b2d010a4-6052-40d9-a150-21ead7c78d75\">\n",
              "    <div class=\"colab-df-container\">\n",
              "      <div>\n",
              "<style scoped>\n",
              "    .dataframe tbody tr th:only-of-type {\n",
              "        vertical-align: middle;\n",
              "    }\n",
              "\n",
              "    .dataframe tbody tr th {\n",
              "        vertical-align: top;\n",
              "    }\n",
              "\n",
              "    .dataframe thead th {\n",
              "        text-align: right;\n",
              "    }\n",
              "</style>\n",
              "<table border=\"1\" class=\"dataframe\">\n",
              "  <thead>\n",
              "    <tr style=\"text-align: right;\">\n",
              "      <th></th>\n",
              "      <th>Date Created</th>\n",
              "      <th>Number of Likes</th>\n",
              "      <th>Source of Tweet</th>\n",
              "      <th>Tweets</th>\n",
              "    </tr>\n",
              "  </thead>\n",
              "  <tbody>\n",
              "    <tr>\n",
              "      <th>0</th>\n",
              "      <td>2023-06-30 09:21:00+00:00</td>\n",
              "      <td>0</td>\n",
              "      <td>NaN</td>\n",
              "      <td>#ENGvAUS #ENGvsAUS #AUSvENG #AUSvsENG #Adipuru...</td>\n",
              "    </tr>\n",
              "    <tr>\n",
              "      <th>1</th>\n",
              "      <td>2023-06-30 09:20:57+00:00</td>\n",
              "      <td>0</td>\n",
              "      <td>NaN</td>\n",
              "      <td>Now Playing!! Book Your Ticket Now!! 🎥🍿🎟️\\n@go...</td>\n",
              "    </tr>\n",
              "    <tr>\n",
              "      <th>2</th>\n",
              "      <td>2023-06-30 09:20:22+00:00</td>\n",
              "      <td>0</td>\n",
              "      <td>NaN</td>\n",
              "      <td>@ponilemova #Adipurush</td>\n",
              "    </tr>\n",
              "    <tr>\n",
              "      <th>3</th>\n",
              "      <td>2023-06-30 09:20:00+00:00</td>\n",
              "      <td>3</td>\n",
              "      <td>NaN</td>\n",
              "      <td>Adipurush VS 72 Hoorain VS The Kerala Story Co...</td>\n",
              "    </tr>\n",
              "    <tr>\n",
              "      <th>4</th>\n",
              "      <td>2023-06-30 09:15:22+00:00</td>\n",
              "      <td>3</td>\n",
              "      <td>NaN</td>\n",
              "      <td>ST: #Adipurush https://t.co/lsGKcgQuKL</td>\n",
              "    </tr>\n",
              "  </tbody>\n",
              "</table>\n",
              "</div>\n",
              "      <button class=\"colab-df-convert\" onclick=\"convertToInteractive('df-b2d010a4-6052-40d9-a150-21ead7c78d75')\"\n",
              "              title=\"Convert this dataframe to an interactive table.\"\n",
              "              style=\"display:none;\">\n",
              "        \n",
              "  <svg xmlns=\"http://www.w3.org/2000/svg\" height=\"24px\"viewBox=\"0 0 24 24\"\n",
              "       width=\"24px\">\n",
              "    <path d=\"M0 0h24v24H0V0z\" fill=\"none\"/>\n",
              "    <path d=\"M18.56 5.44l.94 2.06.94-2.06 2.06-.94-2.06-.94-.94-2.06-.94 2.06-2.06.94zm-11 1L8.5 8.5l.94-2.06 2.06-.94-2.06-.94L8.5 2.5l-.94 2.06-2.06.94zm10 10l.94 2.06.94-2.06 2.06-.94-2.06-.94-.94-2.06-.94 2.06-2.06.94z\"/><path d=\"M17.41 7.96l-1.37-1.37c-.4-.4-.92-.59-1.43-.59-.52 0-1.04.2-1.43.59L10.3 9.45l-7.72 7.72c-.78.78-.78 2.05 0 2.83L4 21.41c.39.39.9.59 1.41.59.51 0 1.02-.2 1.41-.59l7.78-7.78 2.81-2.81c.8-.78.8-2.07 0-2.86zM5.41 20L4 18.59l7.72-7.72 1.47 1.35L5.41 20z\"/>\n",
              "  </svg>\n",
              "      </button>\n",
              "      \n",
              "  <style>\n",
              "    .colab-df-container {\n",
              "      display:flex;\n",
              "      flex-wrap:wrap;\n",
              "      gap: 12px;\n",
              "    }\n",
              "\n",
              "    .colab-df-convert {\n",
              "      background-color: #E8F0FE;\n",
              "      border: none;\n",
              "      border-radius: 50%;\n",
              "      cursor: pointer;\n",
              "      display: none;\n",
              "      fill: #1967D2;\n",
              "      height: 32px;\n",
              "      padding: 0 0 0 0;\n",
              "      width: 32px;\n",
              "    }\n",
              "\n",
              "    .colab-df-convert:hover {\n",
              "      background-color: #E2EBFA;\n",
              "      box-shadow: 0px 1px 2px rgba(60, 64, 67, 0.3), 0px 1px 3px 1px rgba(60, 64, 67, 0.15);\n",
              "      fill: #174EA6;\n",
              "    }\n",
              "\n",
              "    [theme=dark] .colab-df-convert {\n",
              "      background-color: #3B4455;\n",
              "      fill: #D2E3FC;\n",
              "    }\n",
              "\n",
              "    [theme=dark] .colab-df-convert:hover {\n",
              "      background-color: #434B5C;\n",
              "      box-shadow: 0px 1px 3px 1px rgba(0, 0, 0, 0.15);\n",
              "      filter: drop-shadow(0px 1px 2px rgba(0, 0, 0, 0.3));\n",
              "      fill: #FFFFFF;\n",
              "    }\n",
              "  </style>\n",
              "\n",
              "      <script>\n",
              "        const buttonEl =\n",
              "          document.querySelector('#df-b2d010a4-6052-40d9-a150-21ead7c78d75 button.colab-df-convert');\n",
              "        buttonEl.style.display =\n",
              "          google.colab.kernel.accessAllowed ? 'block' : 'none';\n",
              "\n",
              "        async function convertToInteractive(key) {\n",
              "          const element = document.querySelector('#df-b2d010a4-6052-40d9-a150-21ead7c78d75');\n",
              "          const dataTable =\n",
              "            await google.colab.kernel.invokeFunction('convertToInteractive',\n",
              "                                                     [key], {});\n",
              "          if (!dataTable) return;\n",
              "\n",
              "          const docLinkHtml = 'Like what you see? Visit the ' +\n",
              "            '<a target=\"_blank\" href=https://colab.research.google.com/notebooks/data_table.ipynb>data table notebook</a>'\n",
              "            + ' to learn more about interactive tables.';\n",
              "          element.innerHTML = '';\n",
              "          dataTable['output_type'] = 'display_data';\n",
              "          await google.colab.output.renderOutput(dataTable, element);\n",
              "          const docLink = document.createElement('div');\n",
              "          docLink.innerHTML = docLinkHtml;\n",
              "          element.appendChild(docLink);\n",
              "        }\n",
              "      </script>\n",
              "    </div>\n",
              "  </div>\n",
              "  "
            ]
          },
          "metadata": {},
          "execution_count": 7
        }
      ]
    },
    {
      "cell_type": "markdown",
      "source": [
        "getting the shape of the dataset"
      ],
      "metadata": {
        "id": "EC9XX0FQA23V"
      }
    },
    {
      "cell_type": "code",
      "source": [
        "data.shape"
      ],
      "metadata": {
        "colab": {
          "base_uri": "https://localhost:8080/"
        },
        "id": "MomZbYgYgc66",
        "outputId": "c8b5debb-f22d-41a9-8faf-386cf61506b7"
      },
      "execution_count": 8,
      "outputs": [
        {
          "output_type": "execute_result",
          "data": {
            "text/plain": [
              "(10001, 4)"
            ]
          },
          "metadata": {},
          "execution_count": 8
        }
      ]
    },
    {
      "cell_type": "markdown",
      "source": [
        "getting the columns of the dataset"
      ],
      "metadata": {
        "id": "puJEIuFoBEKE"
      }
    },
    {
      "cell_type": "code",
      "source": [
        "data.columns"
      ],
      "metadata": {
        "colab": {
          "base_uri": "https://localhost:8080/"
        },
        "id": "Srog1SYbgrGh",
        "outputId": "92567a53-a042-4182-f9f8-2f1a34be01c0"
      },
      "execution_count": null,
      "outputs": [
        {
          "output_type": "execute_result",
          "data": {
            "text/plain": [
              "Index(['Date Created', 'Number of Likes', 'Source of Tweet', 'Tweets'], dtype='object')"
            ]
          },
          "metadata": {},
          "execution_count": 454
        }
      ]
    },
    {
      "cell_type": "markdown",
      "source": [
        "getting the information of the dataset"
      ],
      "metadata": {
        "id": "oFYMpdewBIal"
      }
    },
    {
      "cell_type": "code",
      "source": [
        "data.info()"
      ],
      "metadata": {
        "colab": {
          "base_uri": "https://localhost:8080/"
        },
        "id": "e9QzebyzgwrT",
        "outputId": "c14f62f1-0ba8-41d6-af9d-1d683638656d"
      },
      "execution_count": 9,
      "outputs": [
        {
          "output_type": "stream",
          "name": "stdout",
          "text": [
            "<class 'pandas.core.frame.DataFrame'>\n",
            "RangeIndex: 10001 entries, 0 to 10000\n",
            "Data columns (total 4 columns):\n",
            " #   Column           Non-Null Count  Dtype  \n",
            "---  ------           --------------  -----  \n",
            " 0   Date Created     10001 non-null  object \n",
            " 1   Number of Likes  10001 non-null  int64  \n",
            " 2   Source of Tweet  0 non-null      float64\n",
            " 3   Tweets           10001 non-null  object \n",
            "dtypes: float64(1), int64(1), object(2)\n",
            "memory usage: 312.7+ KB\n"
          ]
        }
      ]
    },
    {
      "cell_type": "markdown",
      "source": [
        "dropping the unnecessay columns from the dataset"
      ],
      "metadata": {
        "id": "8t_skdbDBM6X"
      }
    },
    {
      "cell_type": "code",
      "source": [
        "data=data.drop(\"Source of Tweet\",axis=1)"
      ],
      "metadata": {
        "id": "ogEYvmKMgz7F"
      },
      "execution_count": 10,
      "outputs": []
    },
    {
      "cell_type": "code",
      "source": [
        "data.columns"
      ],
      "metadata": {
        "colab": {
          "base_uri": "https://localhost:8080/"
        },
        "id": "bzB0-G4KhC6r",
        "outputId": "c2106b46-ee02-4d01-b062-ea6f36a535b6"
      },
      "execution_count": 11,
      "outputs": [
        {
          "output_type": "execute_result",
          "data": {
            "text/plain": [
              "Index(['Date Created', 'Number of Likes', 'Tweets'], dtype='object')"
            ]
          },
          "metadata": {},
          "execution_count": 11
        }
      ]
    },
    {
      "cell_type": "markdown",
      "source": [
        "checking if the data contains any duplicated value"
      ],
      "metadata": {
        "id": "x3DozSG0BeLj"
      }
    },
    {
      "cell_type": "code",
      "source": [
        "data.duplicated().sum()"
      ],
      "metadata": {
        "colab": {
          "base_uri": "https://localhost:8080/"
        },
        "id": "74Kjpy5OhNFm",
        "outputId": "747c76c5-261f-41bd-d885-f1670c730d65"
      },
      "execution_count": 12,
      "outputs": [
        {
          "output_type": "execute_result",
          "data": {
            "text/plain": [
              "1"
            ]
          },
          "metadata": {},
          "execution_count": 12
        }
      ]
    },
    {
      "cell_type": "markdown",
      "source": [
        "this shows that the data contains one duplicated value lets drop it"
      ],
      "metadata": {
        "id": "OJBMQiW7BwxF"
      }
    },
    {
      "cell_type": "code",
      "source": [
        "data.drop_duplicates(inplace=True,keep='first')"
      ],
      "metadata": {
        "id": "JnRct4wNhQ74"
      },
      "execution_count": 13,
      "outputs": []
    },
    {
      "cell_type": "markdown",
      "source": [
        "checking the data dtypes of the columns of the dataset"
      ],
      "metadata": {
        "id": "v0owUUHJCCbs"
      }
    },
    {
      "cell_type": "code",
      "source": [
        "data.dtypes"
      ],
      "metadata": {
        "colab": {
          "base_uri": "https://localhost:8080/"
        },
        "id": "wVx-WsB1CCAN",
        "outputId": "509d53b6-46de-4ceb-8cc5-ff2c7412f169"
      },
      "execution_count": 14,
      "outputs": [
        {
          "output_type": "execute_result",
          "data": {
            "text/plain": [
              "Date Created       object\n",
              "Number of Likes     int64\n",
              "Tweets             object\n",
              "dtype: object"
            ]
          },
          "metadata": {},
          "execution_count": 14
        }
      ]
    },
    {
      "cell_type": "markdown",
      "source": [
        "converting the date created column into datetime format"
      ],
      "metadata": {
        "id": "sgs-OjiXCKD6"
      }
    },
    {
      "cell_type": "code",
      "source": [
        "data['Date Created']=pd.to_datetime(data['Date Created'])"
      ],
      "metadata": {
        "id": "8P3w1DBLnleV"
      },
      "execution_count": 15,
      "outputs": []
    },
    {
      "cell_type": "markdown",
      "source": [
        "creating a new column called date and storing only the date in it"
      ],
      "metadata": {
        "id": "jzf6nd66CaRT"
      }
    },
    {
      "cell_type": "code",
      "source": [
        "data['Date']=data['Date Created'].dt.date"
      ],
      "metadata": {
        "id": "uDsmCQfgk8yI"
      },
      "execution_count": 16,
      "outputs": []
    },
    {
      "cell_type": "markdown",
      "source": [
        "converting that newly created date column into datetime format. After that create 3 new columns that have day, month and year in it"
      ],
      "metadata": {
        "id": "_54DHhA3CpMG"
      }
    },
    {
      "cell_type": "code",
      "source": [
        "data['Date']=pd.to_datetime(data['Date'])"
      ],
      "metadata": {
        "id": "0aPBYdRNxHlf"
      },
      "execution_count": 17,
      "outputs": []
    },
    {
      "cell_type": "code",
      "source": [
        "data['Day']=data['Date'].dt.day"
      ],
      "metadata": {
        "id": "fgHsNDLxw4nL"
      },
      "execution_count": 18,
      "outputs": []
    },
    {
      "cell_type": "code",
      "source": [
        "data['Month']=data['Date'].dt.month"
      ],
      "metadata": {
        "id": "fEQMZlLWw4cG"
      },
      "execution_count": 19,
      "outputs": []
    },
    {
      "cell_type": "code",
      "source": [
        "data['Year']=data['Date'].dt.year"
      ],
      "metadata": {
        "id": "LLc0dtqtw4Oc"
      },
      "execution_count": 20,
      "outputs": []
    },
    {
      "cell_type": "markdown",
      "source": [
        "converting the date created column that is the original date column of the dataset into specific format"
      ],
      "metadata": {
        "id": "dYjxgU55C9i9"
      }
    },
    {
      "cell_type": "code",
      "source": [
        "data['Date Created']=data['Date Created'].dt.strftime('%Y-%m-%d %H:%M:%S')"
      ],
      "metadata": {
        "id": "_U7JPJXJjDvF"
      },
      "execution_count": 21,
      "outputs": []
    },
    {
      "cell_type": "markdown",
      "source": [
        "extracting only time from date created column using the split method and storing it in a new column"
      ],
      "metadata": {
        "id": "UViBS7IDDMEf"
      }
    },
    {
      "cell_type": "code",
      "source": [
        "time=[]\n",
        "for x in data['Date Created']:\n",
        "  y=x.split(\" \")\n",
        "  time .append(y[1])\n"
      ],
      "metadata": {
        "id": "5qXfGkASk8ur"
      },
      "execution_count": 22,
      "outputs": []
    },
    {
      "cell_type": "code",
      "source": [
        "data['Time']=time"
      ],
      "metadata": {
        "id": "zWLyeojz9JlJ"
      },
      "execution_count": 23,
      "outputs": []
    },
    {
      "cell_type": "markdown",
      "source": [
        "converting the newly created time column into date and time format and then creating 3 new columns that have hours, minutes and seconds in it"
      ],
      "metadata": {
        "id": "GP2uRbbtDVmI"
      }
    },
    {
      "cell_type": "code",
      "source": [
        "data['Time']=pd.to_datetime(data['Time'])"
      ],
      "metadata": {
        "id": "fR3cGwJ9o0v4"
      },
      "execution_count": 24,
      "outputs": []
    },
    {
      "cell_type": "code",
      "source": [
        "data['Hour']=data['Time'].dt.hour"
      ],
      "metadata": {
        "id": "9S2_Pv7Vx3aA"
      },
      "execution_count": 25,
      "outputs": []
    },
    {
      "cell_type": "code",
      "source": [
        "data['Minutes']=data['Time'].dt.minute"
      ],
      "metadata": {
        "id": "N8moB0rBx3SY"
      },
      "execution_count": 26,
      "outputs": []
    },
    {
      "cell_type": "code",
      "source": [
        "data['Seconds']=data['Time'].dt.second"
      ],
      "metadata": {
        "id": "z8J31E6Ex3Hz"
      },
      "execution_count": 27,
      "outputs": []
    },
    {
      "cell_type": "code",
      "source": [
        "data.head()"
      ],
      "metadata": {
        "colab": {
          "base_uri": "https://localhost:8080/",
          "height": 354
        },
        "id": "3Yw_-EMahaNX",
        "outputId": "bebb6d07-3c31-4f99-dd31-1c6a55ac0862"
      },
      "execution_count": 28,
      "outputs": [
        {
          "output_type": "execute_result",
          "data": {
            "text/plain": [
              "          Date Created  Number of Likes  \\\n",
              "0  2023-06-30 09:21:00                0   \n",
              "1  2023-06-30 09:20:57                0   \n",
              "2  2023-06-30 09:20:22                0   \n",
              "3  2023-06-30 09:20:00                3   \n",
              "4  2023-06-30 09:15:22                3   \n",
              "\n",
              "                                              Tweets       Date  Day  Month  \\\n",
              "0  #ENGvAUS #ENGvsAUS #AUSvENG #AUSvsENG #Adipuru... 2023-06-30   30      6   \n",
              "1  Now Playing!! Book Your Ticket Now!! 🎥🍿🎟️\\n@go... 2023-06-30   30      6   \n",
              "2                             @ponilemova #Adipurush 2023-06-30   30      6   \n",
              "3  Adipurush VS 72 Hoorain VS The Kerala Story Co... 2023-06-30   30      6   \n",
              "4             ST: #Adipurush https://t.co/lsGKcgQuKL 2023-06-30   30      6   \n",
              "\n",
              "   Year                Time  Hour  Minutes  Seconds  \n",
              "0  2023 2023-07-09 09:21:00     9       21        0  \n",
              "1  2023 2023-07-09 09:20:57     9       20       57  \n",
              "2  2023 2023-07-09 09:20:22     9       20       22  \n",
              "3  2023 2023-07-09 09:20:00     9       20        0  \n",
              "4  2023 2023-07-09 09:15:22     9       15       22  "
            ],
            "text/html": [
              "\n",
              "  <div id=\"df-8c8429a0-09e1-435b-ab03-e2feb7c4d7a3\">\n",
              "    <div class=\"colab-df-container\">\n",
              "      <div>\n",
              "<style scoped>\n",
              "    .dataframe tbody tr th:only-of-type {\n",
              "        vertical-align: middle;\n",
              "    }\n",
              "\n",
              "    .dataframe tbody tr th {\n",
              "        vertical-align: top;\n",
              "    }\n",
              "\n",
              "    .dataframe thead th {\n",
              "        text-align: right;\n",
              "    }\n",
              "</style>\n",
              "<table border=\"1\" class=\"dataframe\">\n",
              "  <thead>\n",
              "    <tr style=\"text-align: right;\">\n",
              "      <th></th>\n",
              "      <th>Date Created</th>\n",
              "      <th>Number of Likes</th>\n",
              "      <th>Tweets</th>\n",
              "      <th>Date</th>\n",
              "      <th>Day</th>\n",
              "      <th>Month</th>\n",
              "      <th>Year</th>\n",
              "      <th>Time</th>\n",
              "      <th>Hour</th>\n",
              "      <th>Minutes</th>\n",
              "      <th>Seconds</th>\n",
              "    </tr>\n",
              "  </thead>\n",
              "  <tbody>\n",
              "    <tr>\n",
              "      <th>0</th>\n",
              "      <td>2023-06-30 09:21:00</td>\n",
              "      <td>0</td>\n",
              "      <td>#ENGvAUS #ENGvsAUS #AUSvENG #AUSvsENG #Adipuru...</td>\n",
              "      <td>2023-06-30</td>\n",
              "      <td>30</td>\n",
              "      <td>6</td>\n",
              "      <td>2023</td>\n",
              "      <td>2023-07-09 09:21:00</td>\n",
              "      <td>9</td>\n",
              "      <td>21</td>\n",
              "      <td>0</td>\n",
              "    </tr>\n",
              "    <tr>\n",
              "      <th>1</th>\n",
              "      <td>2023-06-30 09:20:57</td>\n",
              "      <td>0</td>\n",
              "      <td>Now Playing!! Book Your Ticket Now!! 🎥🍿🎟️\\n@go...</td>\n",
              "      <td>2023-06-30</td>\n",
              "      <td>30</td>\n",
              "      <td>6</td>\n",
              "      <td>2023</td>\n",
              "      <td>2023-07-09 09:20:57</td>\n",
              "      <td>9</td>\n",
              "      <td>20</td>\n",
              "      <td>57</td>\n",
              "    </tr>\n",
              "    <tr>\n",
              "      <th>2</th>\n",
              "      <td>2023-06-30 09:20:22</td>\n",
              "      <td>0</td>\n",
              "      <td>@ponilemova #Adipurush</td>\n",
              "      <td>2023-06-30</td>\n",
              "      <td>30</td>\n",
              "      <td>6</td>\n",
              "      <td>2023</td>\n",
              "      <td>2023-07-09 09:20:22</td>\n",
              "      <td>9</td>\n",
              "      <td>20</td>\n",
              "      <td>22</td>\n",
              "    </tr>\n",
              "    <tr>\n",
              "      <th>3</th>\n",
              "      <td>2023-06-30 09:20:00</td>\n",
              "      <td>3</td>\n",
              "      <td>Adipurush VS 72 Hoorain VS The Kerala Story Co...</td>\n",
              "      <td>2023-06-30</td>\n",
              "      <td>30</td>\n",
              "      <td>6</td>\n",
              "      <td>2023</td>\n",
              "      <td>2023-07-09 09:20:00</td>\n",
              "      <td>9</td>\n",
              "      <td>20</td>\n",
              "      <td>0</td>\n",
              "    </tr>\n",
              "    <tr>\n",
              "      <th>4</th>\n",
              "      <td>2023-06-30 09:15:22</td>\n",
              "      <td>3</td>\n",
              "      <td>ST: #Adipurush https://t.co/lsGKcgQuKL</td>\n",
              "      <td>2023-06-30</td>\n",
              "      <td>30</td>\n",
              "      <td>6</td>\n",
              "      <td>2023</td>\n",
              "      <td>2023-07-09 09:15:22</td>\n",
              "      <td>9</td>\n",
              "      <td>15</td>\n",
              "      <td>22</td>\n",
              "    </tr>\n",
              "  </tbody>\n",
              "</table>\n",
              "</div>\n",
              "      <button class=\"colab-df-convert\" onclick=\"convertToInteractive('df-8c8429a0-09e1-435b-ab03-e2feb7c4d7a3')\"\n",
              "              title=\"Convert this dataframe to an interactive table.\"\n",
              "              style=\"display:none;\">\n",
              "        \n",
              "  <svg xmlns=\"http://www.w3.org/2000/svg\" height=\"24px\"viewBox=\"0 0 24 24\"\n",
              "       width=\"24px\">\n",
              "    <path d=\"M0 0h24v24H0V0z\" fill=\"none\"/>\n",
              "    <path d=\"M18.56 5.44l.94 2.06.94-2.06 2.06-.94-2.06-.94-.94-2.06-.94 2.06-2.06.94zm-11 1L8.5 8.5l.94-2.06 2.06-.94-2.06-.94L8.5 2.5l-.94 2.06-2.06.94zm10 10l.94 2.06.94-2.06 2.06-.94-2.06-.94-.94-2.06-.94 2.06-2.06.94z\"/><path d=\"M17.41 7.96l-1.37-1.37c-.4-.4-.92-.59-1.43-.59-.52 0-1.04.2-1.43.59L10.3 9.45l-7.72 7.72c-.78.78-.78 2.05 0 2.83L4 21.41c.39.39.9.59 1.41.59.51 0 1.02-.2 1.41-.59l7.78-7.78 2.81-2.81c.8-.78.8-2.07 0-2.86zM5.41 20L4 18.59l7.72-7.72 1.47 1.35L5.41 20z\"/>\n",
              "  </svg>\n",
              "      </button>\n",
              "      \n",
              "  <style>\n",
              "    .colab-df-container {\n",
              "      display:flex;\n",
              "      flex-wrap:wrap;\n",
              "      gap: 12px;\n",
              "    }\n",
              "\n",
              "    .colab-df-convert {\n",
              "      background-color: #E8F0FE;\n",
              "      border: none;\n",
              "      border-radius: 50%;\n",
              "      cursor: pointer;\n",
              "      display: none;\n",
              "      fill: #1967D2;\n",
              "      height: 32px;\n",
              "      padding: 0 0 0 0;\n",
              "      width: 32px;\n",
              "    }\n",
              "\n",
              "    .colab-df-convert:hover {\n",
              "      background-color: #E2EBFA;\n",
              "      box-shadow: 0px 1px 2px rgba(60, 64, 67, 0.3), 0px 1px 3px 1px rgba(60, 64, 67, 0.15);\n",
              "      fill: #174EA6;\n",
              "    }\n",
              "\n",
              "    [theme=dark] .colab-df-convert {\n",
              "      background-color: #3B4455;\n",
              "      fill: #D2E3FC;\n",
              "    }\n",
              "\n",
              "    [theme=dark] .colab-df-convert:hover {\n",
              "      background-color: #434B5C;\n",
              "      box-shadow: 0px 1px 3px 1px rgba(0, 0, 0, 0.15);\n",
              "      filter: drop-shadow(0px 1px 2px rgba(0, 0, 0, 0.3));\n",
              "      fill: #FFFFFF;\n",
              "    }\n",
              "  </style>\n",
              "\n",
              "      <script>\n",
              "        const buttonEl =\n",
              "          document.querySelector('#df-8c8429a0-09e1-435b-ab03-e2feb7c4d7a3 button.colab-df-convert');\n",
              "        buttonEl.style.display =\n",
              "          google.colab.kernel.accessAllowed ? 'block' : 'none';\n",
              "\n",
              "        async function convertToInteractive(key) {\n",
              "          const element = document.querySelector('#df-8c8429a0-09e1-435b-ab03-e2feb7c4d7a3');\n",
              "          const dataTable =\n",
              "            await google.colab.kernel.invokeFunction('convertToInteractive',\n",
              "                                                     [key], {});\n",
              "          if (!dataTable) return;\n",
              "\n",
              "          const docLinkHtml = 'Like what you see? Visit the ' +\n",
              "            '<a target=\"_blank\" href=https://colab.research.google.com/notebooks/data_table.ipynb>data table notebook</a>'\n",
              "            + ' to learn more about interactive tables.';\n",
              "          element.innerHTML = '';\n",
              "          dataTable['output_type'] = 'display_data';\n",
              "          await google.colab.output.renderOutput(dataTable, element);\n",
              "          const docLink = document.createElement('div');\n",
              "          docLink.innerHTML = docLinkHtml;\n",
              "          element.appendChild(docLink);\n",
              "        }\n",
              "      </script>\n",
              "    </div>\n",
              "  </div>\n",
              "  "
            ]
          },
          "metadata": {},
          "execution_count": 28
        }
      ]
    },
    {
      "cell_type": "code",
      "source": [
        "data.dtypes"
      ],
      "metadata": {
        "colab": {
          "base_uri": "https://localhost:8080/"
        },
        "id": "eOJQzVyuipRl",
        "outputId": "a7b14864-0d02-4cc0-8f6d-7e46c8b72eac"
      },
      "execution_count": 29,
      "outputs": [
        {
          "output_type": "execute_result",
          "data": {
            "text/plain": [
              "Date Created               object\n",
              "Number of Likes             int64\n",
              "Tweets                     object\n",
              "Date               datetime64[ns]\n",
              "Day                         int64\n",
              "Month                       int64\n",
              "Year                        int64\n",
              "Time               datetime64[ns]\n",
              "Hour                        int64\n",
              "Minutes                     int64\n",
              "Seconds                     int64\n",
              "dtype: object"
            ]
          },
          "metadata": {},
          "execution_count": 29
        }
      ]
    },
    {
      "cell_type": "markdown",
      "source": [
        "checking the maximum and minimum date of the tweets posted for the movie"
      ],
      "metadata": {
        "id": "5DdP0GdLDhkw"
      }
    },
    {
      "cell_type": "code",
      "source": [
        "data['Date Created'].max()"
      ],
      "metadata": {
        "colab": {
          "base_uri": "https://localhost:8080/",
          "height": 36
        },
        "id": "XtPNgiJii8Hi",
        "outputId": "68f7ec5f-18c4-4352-c18f-f800a3ea343d"
      },
      "execution_count": 30,
      "outputs": [
        {
          "output_type": "execute_result",
          "data": {
            "text/plain": [
              "'2023-06-30 09:21:00'"
            ],
            "application/vnd.google.colaboratory.intrinsic+json": {
              "type": "string"
            }
          },
          "metadata": {},
          "execution_count": 30
        }
      ]
    },
    {
      "cell_type": "code",
      "source": [
        "data['Date Created'].min()"
      ],
      "metadata": {
        "colab": {
          "base_uri": "https://localhost:8080/",
          "height": 36
        },
        "id": "BlxT_uEtjWDS",
        "outputId": "55aac48c-0293-4b58-a572-b45eeecc4181"
      },
      "execution_count": 31,
      "outputs": [
        {
          "output_type": "execute_result",
          "data": {
            "text/plain": [
              "'2023-06-23 10:07:45'"
            ],
            "application/vnd.google.colaboratory.intrinsic+json": {
              "type": "string"
            }
          },
          "metadata": {},
          "execution_count": 31
        }
      ]
    },
    {
      "cell_type": "markdown",
      "source": [
        "getting the description of the data i.e the means,std,min,max,quantiles,etc"
      ],
      "metadata": {
        "id": "GWzviNnvDxKr"
      }
    },
    {
      "cell_type": "code",
      "source": [
        "data.describe()"
      ],
      "metadata": {
        "colab": {
          "base_uri": "https://localhost:8080/",
          "height": 300
        },
        "id": "ka6suSDDjZVq",
        "outputId": "f7560594-4734-4cbe-af6d-bd8b41c2b9be"
      },
      "execution_count": 32,
      "outputs": [
        {
          "output_type": "execute_result",
          "data": {
            "text/plain": [
              "       Number of Likes           Day    Month     Year          Hour  \\\n",
              "count     10000.000000  10000.000000  10000.0  10000.0  10000.000000   \n",
              "mean         73.544500     25.842800      6.0   2023.0     10.369100   \n",
              "std         369.705682      2.011888      0.0      0.0      4.957693   \n",
              "min           0.000000     23.000000      6.0   2023.0      0.000000   \n",
              "25%           0.000000     24.000000      6.0   2023.0      6.000000   \n",
              "50%           1.000000     26.000000      6.0   2023.0     11.000000   \n",
              "75%           9.000000     28.000000      6.0   2023.0     14.000000   \n",
              "max       14778.000000     30.000000      6.0   2023.0     23.000000   \n",
              "\n",
              "            Minutes       Seconds  \n",
              "count  10000.000000  10000.000000  \n",
              "mean      29.195600     28.785900  \n",
              "std       17.175752     17.687548  \n",
              "min        0.000000      0.000000  \n",
              "25%       14.000000     13.000000  \n",
              "50%       30.000000     29.000000  \n",
              "75%       44.000000     44.000000  \n",
              "max       59.000000     59.000000  "
            ],
            "text/html": [
              "\n",
              "  <div id=\"df-4db2efc0-32c9-4426-ab79-dd89b13c3c20\">\n",
              "    <div class=\"colab-df-container\">\n",
              "      <div>\n",
              "<style scoped>\n",
              "    .dataframe tbody tr th:only-of-type {\n",
              "        vertical-align: middle;\n",
              "    }\n",
              "\n",
              "    .dataframe tbody tr th {\n",
              "        vertical-align: top;\n",
              "    }\n",
              "\n",
              "    .dataframe thead th {\n",
              "        text-align: right;\n",
              "    }\n",
              "</style>\n",
              "<table border=\"1\" class=\"dataframe\">\n",
              "  <thead>\n",
              "    <tr style=\"text-align: right;\">\n",
              "      <th></th>\n",
              "      <th>Number of Likes</th>\n",
              "      <th>Day</th>\n",
              "      <th>Month</th>\n",
              "      <th>Year</th>\n",
              "      <th>Hour</th>\n",
              "      <th>Minutes</th>\n",
              "      <th>Seconds</th>\n",
              "    </tr>\n",
              "  </thead>\n",
              "  <tbody>\n",
              "    <tr>\n",
              "      <th>count</th>\n",
              "      <td>10000.000000</td>\n",
              "      <td>10000.000000</td>\n",
              "      <td>10000.0</td>\n",
              "      <td>10000.0</td>\n",
              "      <td>10000.000000</td>\n",
              "      <td>10000.000000</td>\n",
              "      <td>10000.000000</td>\n",
              "    </tr>\n",
              "    <tr>\n",
              "      <th>mean</th>\n",
              "      <td>73.544500</td>\n",
              "      <td>25.842800</td>\n",
              "      <td>6.0</td>\n",
              "      <td>2023.0</td>\n",
              "      <td>10.369100</td>\n",
              "      <td>29.195600</td>\n",
              "      <td>28.785900</td>\n",
              "    </tr>\n",
              "    <tr>\n",
              "      <th>std</th>\n",
              "      <td>369.705682</td>\n",
              "      <td>2.011888</td>\n",
              "      <td>0.0</td>\n",
              "      <td>0.0</td>\n",
              "      <td>4.957693</td>\n",
              "      <td>17.175752</td>\n",
              "      <td>17.687548</td>\n",
              "    </tr>\n",
              "    <tr>\n",
              "      <th>min</th>\n",
              "      <td>0.000000</td>\n",
              "      <td>23.000000</td>\n",
              "      <td>6.0</td>\n",
              "      <td>2023.0</td>\n",
              "      <td>0.000000</td>\n",
              "      <td>0.000000</td>\n",
              "      <td>0.000000</td>\n",
              "    </tr>\n",
              "    <tr>\n",
              "      <th>25%</th>\n",
              "      <td>0.000000</td>\n",
              "      <td>24.000000</td>\n",
              "      <td>6.0</td>\n",
              "      <td>2023.0</td>\n",
              "      <td>6.000000</td>\n",
              "      <td>14.000000</td>\n",
              "      <td>13.000000</td>\n",
              "    </tr>\n",
              "    <tr>\n",
              "      <th>50%</th>\n",
              "      <td>1.000000</td>\n",
              "      <td>26.000000</td>\n",
              "      <td>6.0</td>\n",
              "      <td>2023.0</td>\n",
              "      <td>11.000000</td>\n",
              "      <td>30.000000</td>\n",
              "      <td>29.000000</td>\n",
              "    </tr>\n",
              "    <tr>\n",
              "      <th>75%</th>\n",
              "      <td>9.000000</td>\n",
              "      <td>28.000000</td>\n",
              "      <td>6.0</td>\n",
              "      <td>2023.0</td>\n",
              "      <td>14.000000</td>\n",
              "      <td>44.000000</td>\n",
              "      <td>44.000000</td>\n",
              "    </tr>\n",
              "    <tr>\n",
              "      <th>max</th>\n",
              "      <td>14778.000000</td>\n",
              "      <td>30.000000</td>\n",
              "      <td>6.0</td>\n",
              "      <td>2023.0</td>\n",
              "      <td>23.000000</td>\n",
              "      <td>59.000000</td>\n",
              "      <td>59.000000</td>\n",
              "    </tr>\n",
              "  </tbody>\n",
              "</table>\n",
              "</div>\n",
              "      <button class=\"colab-df-convert\" onclick=\"convertToInteractive('df-4db2efc0-32c9-4426-ab79-dd89b13c3c20')\"\n",
              "              title=\"Convert this dataframe to an interactive table.\"\n",
              "              style=\"display:none;\">\n",
              "        \n",
              "  <svg xmlns=\"http://www.w3.org/2000/svg\" height=\"24px\"viewBox=\"0 0 24 24\"\n",
              "       width=\"24px\">\n",
              "    <path d=\"M0 0h24v24H0V0z\" fill=\"none\"/>\n",
              "    <path d=\"M18.56 5.44l.94 2.06.94-2.06 2.06-.94-2.06-.94-.94-2.06-.94 2.06-2.06.94zm-11 1L8.5 8.5l.94-2.06 2.06-.94-2.06-.94L8.5 2.5l-.94 2.06-2.06.94zm10 10l.94 2.06.94-2.06 2.06-.94-2.06-.94-.94-2.06-.94 2.06-2.06.94z\"/><path d=\"M17.41 7.96l-1.37-1.37c-.4-.4-.92-.59-1.43-.59-.52 0-1.04.2-1.43.59L10.3 9.45l-7.72 7.72c-.78.78-.78 2.05 0 2.83L4 21.41c.39.39.9.59 1.41.59.51 0 1.02-.2 1.41-.59l7.78-7.78 2.81-2.81c.8-.78.8-2.07 0-2.86zM5.41 20L4 18.59l7.72-7.72 1.47 1.35L5.41 20z\"/>\n",
              "  </svg>\n",
              "      </button>\n",
              "      \n",
              "  <style>\n",
              "    .colab-df-container {\n",
              "      display:flex;\n",
              "      flex-wrap:wrap;\n",
              "      gap: 12px;\n",
              "    }\n",
              "\n",
              "    .colab-df-convert {\n",
              "      background-color: #E8F0FE;\n",
              "      border: none;\n",
              "      border-radius: 50%;\n",
              "      cursor: pointer;\n",
              "      display: none;\n",
              "      fill: #1967D2;\n",
              "      height: 32px;\n",
              "      padding: 0 0 0 0;\n",
              "      width: 32px;\n",
              "    }\n",
              "\n",
              "    .colab-df-convert:hover {\n",
              "      background-color: #E2EBFA;\n",
              "      box-shadow: 0px 1px 2px rgba(60, 64, 67, 0.3), 0px 1px 3px 1px rgba(60, 64, 67, 0.15);\n",
              "      fill: #174EA6;\n",
              "    }\n",
              "\n",
              "    [theme=dark] .colab-df-convert {\n",
              "      background-color: #3B4455;\n",
              "      fill: #D2E3FC;\n",
              "    }\n",
              "\n",
              "    [theme=dark] .colab-df-convert:hover {\n",
              "      background-color: #434B5C;\n",
              "      box-shadow: 0px 1px 3px 1px rgba(0, 0, 0, 0.15);\n",
              "      filter: drop-shadow(0px 1px 2px rgba(0, 0, 0, 0.3));\n",
              "      fill: #FFFFFF;\n",
              "    }\n",
              "  </style>\n",
              "\n",
              "      <script>\n",
              "        const buttonEl =\n",
              "          document.querySelector('#df-4db2efc0-32c9-4426-ab79-dd89b13c3c20 button.colab-df-convert');\n",
              "        buttonEl.style.display =\n",
              "          google.colab.kernel.accessAllowed ? 'block' : 'none';\n",
              "\n",
              "        async function convertToInteractive(key) {\n",
              "          const element = document.querySelector('#df-4db2efc0-32c9-4426-ab79-dd89b13c3c20');\n",
              "          const dataTable =\n",
              "            await google.colab.kernel.invokeFunction('convertToInteractive',\n",
              "                                                     [key], {});\n",
              "          if (!dataTable) return;\n",
              "\n",
              "          const docLinkHtml = 'Like what you see? Visit the ' +\n",
              "            '<a target=\"_blank\" href=https://colab.research.google.com/notebooks/data_table.ipynb>data table notebook</a>'\n",
              "            + ' to learn more about interactive tables.';\n",
              "          element.innerHTML = '';\n",
              "          dataTable['output_type'] = 'display_data';\n",
              "          await google.colab.output.renderOutput(dataTable, element);\n",
              "          const docLink = document.createElement('div');\n",
              "          docLink.innerHTML = docLinkHtml;\n",
              "          element.appendChild(docLink);\n",
              "        }\n",
              "      </script>\n",
              "    </div>\n",
              "  </div>\n",
              "  "
            ]
          },
          "metadata": {},
          "execution_count": 32
        }
      ]
    },
    {
      "cell_type": "markdown",
      "source": [
        "**EXPLORATORY DATA ANALYSIS**"
      ],
      "metadata": {
        "id": "w6qjayYfD4Rh"
      }
    },
    {
      "cell_type": "markdown",
      "source": [
        "creating a count plot that shows the count of tweets as per days"
      ],
      "metadata": {
        "id": "qpOFR3ceD-p7"
      }
    },
    {
      "cell_type": "code",
      "source": [
        "data['Date Created']=pd.to_datetime(data['Date Created'])"
      ],
      "metadata": {
        "id": "av0ueYzbEMir"
      },
      "execution_count": 35,
      "outputs": []
    },
    {
      "cell_type": "code",
      "source": [
        "data['Date']=data['Date Created'].dt.date"
      ],
      "metadata": {
        "id": "_IV52zf5ENIm"
      },
      "execution_count": 36,
      "outputs": []
    },
    {
      "cell_type": "code",
      "source": [
        "ax=sns.countplot(x='Date',data=data,palette='viridis')\n",
        "plt.title(\"Count of Tweets as per Day\")\n",
        "plt.xticks(rotation=90)\n",
        "for bars in ax.containers:\n",
        "  ax.bar_label(bars)"
      ],
      "metadata": {
        "colab": {
          "base_uri": "https://localhost:8080/",
          "height": 538
        },
        "id": "jTeWyEsFjd6m",
        "outputId": "0816f3e8-d968-4ad4-b3e2-f1a0a2910a69"
      },
      "execution_count": 37,
      "outputs": [
        {
          "output_type": "display_data",
          "data": {
            "text/plain": [
              "<Figure size 640x480 with 1 Axes>"
            ],
            "image/png": "[encoded data removed]"
          },
          "metadata": {}
        }
      ]
    },
    {
      "cell_type": "markdown",
      "source": [
        "this graph shows that the higgest number of tweets were done on 24th june and lowest tweets were done on 30th june"
      ],
      "metadata": {
        "id": "We-TcpuwEv5e"
      }
    },
    {
      "cell_type": "markdown",
      "source": [
        "creating a count plot that shows the number of tweets per hour for the specific day selected by the user"
      ],
      "metadata": {
        "id": "RBc5jpy-E6wM"
      }
    },
    {
      "cell_type": "code",
      "source": [
        "\n",
        "@interact(day_req=data['Day'].unique())\n",
        "def analysis(day_req):\n",
        "  # Filter dataframe based on the selected day\n",
        "\n",
        "  filtered_df = data[data['Day'] == day_req]\n",
        "  #Extract time from datetime and create countplot\n",
        "  plt.figure(figsize=(10, 6))\n",
        "  ax=sns.countplot(x='Hour',data=filtered_df,palette='viridis')\n",
        "  plt.title(f\"Countplot of Tweets for {day_req} June\")\n",
        "  plt.xlabel(\"Hour of the day\")\n",
        "  plt.ylabel(\"Count of Tweets\")\n",
        "  plt.show()"
      ],
      "metadata": {
        "colab": {
          "base_uri": "https://localhost:8080/",
          "height": 596,
          "referenced_widgets": [
            "05519dbb866144d6bd68e44deb3e116e",
            "09c27014e55849d3bd90e39168742738",
            "9cda2ce138ce484b9148ca44dfd01fed",
            "4b897e8b9f2049509eb40904d660a851",
            "1e101bfbc58547e3a996cd2f08528cb7",
            "c600e2f768364160b28d6550b70734be",
            "098e171a708f4203a9e79c2bb06536b1"
          ]
        },
        "id": "Jy47Y26g3jhi",
        "outputId": "e840d031-a03c-4777-dca9-863ea02da18b"
      },
      "execution_count": 39,
      "outputs": [
        {
          "output_type": "display_data",
          "data": {
            "text/plain": [
              "interactive(children=(Dropdown(description='day_req', options=(30, 29, 28, 27, 26, 25, 24, 23), value=30), Out…"
            ],
            "application/vnd.jupyter.widget-view+json": {
              "version_major": 2,
              "version_minor": 0,
              "model_id": "05519dbb866144d6bd68e44deb3e116e"
            }
          },
          "metadata": {}
        }
      ]
    },
    {
      "cell_type": "markdown",
      "source": [
        "lets clean the tweets"
      ],
      "metadata": {
        "id": "LX9K-7hE-ShP"
      }
    },
    {
      "cell_type": "code",
      "source": [
        "data.head()"
      ],
      "metadata": {
        "colab": {
          "base_uri": "https://localhost:8080/",
          "height": 354
        },
        "id": "4J86ghSh-ds1",
        "outputId": "d38505b5-12be-4948-9b0b-fd7bda430e40"
      },
      "execution_count": 40,
      "outputs": [
        {
          "output_type": "execute_result",
          "data": {
            "text/plain": [
              "         Date Created  Number of Likes  \\\n",
              "0 2023-06-30 09:21:00                0   \n",
              "1 2023-06-30 09:20:57                0   \n",
              "2 2023-06-30 09:20:22                0   \n",
              "3 2023-06-30 09:20:00                3   \n",
              "4 2023-06-30 09:15:22                3   \n",
              "\n",
              "                                              Tweets        Date  Day  Month  \\\n",
              "0  #ENGvAUS #ENGvsAUS #AUSvENG #AUSvsENG #Adipuru...  2023-06-30   30      6   \n",
              "1  Now Playing!! Book Your Ticket Now!! 🎥🍿🎟️\\n@go...  2023-06-30   30      6   \n",
              "2                             @ponilemova #Adipurush  2023-06-30   30      6   \n",
              "3  Adipurush VS 72 Hoorain VS The Kerala Story Co...  2023-06-30   30      6   \n",
              "4             ST: #Adipurush https://t.co/lsGKcgQuKL  2023-06-30   30      6   \n",
              "\n",
              "   Year                Time  Hour  Minutes  Seconds  \n",
              "0  2023 2023-07-09 09:21:00     9       21        0  \n",
              "1  2023 2023-07-09 09:20:57     9       20       57  \n",
              "2  2023 2023-07-09 09:20:22     9       20       22  \n",
              "3  2023 2023-07-09 09:20:00     9       20        0  \n",
              "4  2023 2023-07-09 09:15:22     9       15       22  "
            ],
            "text/html": [
              "\n",
              "  <div id=\"df-174a41bd-9e25-409e-a9bc-79e4b5db30ed\">\n",
              "    <div class=\"colab-df-container\">\n",
              "      <div>\n",
              "<style scoped>\n",
              "    .dataframe tbody tr th:only-of-type {\n",
              "        vertical-align: middle;\n",
              "    }\n",
              "\n",
              "    .dataframe tbody tr th {\n",
              "        vertical-align: top;\n",
              "    }\n",
              "\n",
              "    .dataframe thead th {\n",
              "        text-align: right;\n",
              "    }\n",
              "</style>\n",
              "<table border=\"1\" class=\"dataframe\">\n",
              "  <thead>\n",
              "    <tr style=\"text-align: right;\">\n",
              "      <th></th>\n",
              "      <th>Date Created</th>\n",
              "      <th>Number of Likes</th>\n",
              "      <th>Tweets</th>\n",
              "      <th>Date</th>\n",
              "      <th>Day</th>\n",
              "      <th>Month</th>\n",
              "      <th>Year</th>\n",
              "      <th>Time</th>\n",
              "      <th>Hour</th>\n",
              "      <th>Minutes</th>\n",
              "      <th>Seconds</th>\n",
              "    </tr>\n",
              "  </thead>\n",
              "  <tbody>\n",
              "    <tr>\n",
              "      <th>0</th>\n",
              "      <td>2023-06-30 09:21:00</td>\n",
              "      <td>0</td>\n",
              "      <td>#ENGvAUS #ENGvsAUS #AUSvENG #AUSvsENG #Adipuru...</td>\n",
              "      <td>2023-06-30</td>\n",
              "      <td>30</td>\n",
              "      <td>6</td>\n",
              "      <td>2023</td>\n",
              "      <td>2023-07-09 09:21:00</td>\n",
              "      <td>9</td>\n",
              "      <td>21</td>\n",
              "      <td>0</td>\n",
              "    </tr>\n",
              "    <tr>\n",
              "      <th>1</th>\n",
              "      <td>2023-06-30 09:20:57</td>\n",
              "      <td>0</td>\n",
              "      <td>Now Playing!! Book Your Ticket Now!! 🎥🍿🎟️\\n@go...</td>\n",
              "      <td>2023-06-30</td>\n",
              "      <td>30</td>\n",
              "      <td>6</td>\n",
              "      <td>2023</td>\n",
              "      <td>2023-07-09 09:20:57</td>\n",
              "      <td>9</td>\n",
              "      <td>20</td>\n",
              "      <td>57</td>\n",
              "    </tr>\n",
              "    <tr>\n",
              "      <th>2</th>\n",
              "      <td>2023-06-30 09:20:22</td>\n",
              "      <td>0</td>\n",
              "      <td>@ponilemova #Adipurush</td>\n",
              "      <td>2023-06-30</td>\n",
              "      <td>30</td>\n",
              "      <td>6</td>\n",
              "      <td>2023</td>\n",
              "      <td>2023-07-09 09:20:22</td>\n",
              "      <td>9</td>\n",
              "      <td>20</td>\n",
              "      <td>22</td>\n",
              "    </tr>\n",
              "    <tr>\n",
              "      <th>3</th>\n",
              "      <td>2023-06-30 09:20:00</td>\n",
              "      <td>3</td>\n",
              "      <td>Adipurush VS 72 Hoorain VS The Kerala Story Co...</td>\n",
              "      <td>2023-06-30</td>\n",
              "      <td>30</td>\n",
              "      <td>6</td>\n",
              "      <td>2023</td>\n",
              "      <td>2023-07-09 09:20:00</td>\n",
              "      <td>9</td>\n",
              "      <td>20</td>\n",
              "      <td>0</td>\n",
              "    </tr>\n",
              "    <tr>\n",
              "      <th>4</th>\n",
              "      <td>2023-06-30 09:15:22</td>\n",
              "      <td>3</td>\n",
              "      <td>ST: #Adipurush https://t.co/lsGKcgQuKL</td>\n",
              "      <td>2023-06-30</td>\n",
              "      <td>30</td>\n",
              "      <td>6</td>\n",
              "      <td>2023</td>\n",
              "      <td>2023-07-09 09:15:22</td>\n",
              "      <td>9</td>\n",
              "      <td>15</td>\n",
              "      <td>22</td>\n",
              "    </tr>\n",
              "  </tbody>\n",
              "</table>\n",
              "</div>\n",
              "      <button class=\"colab-df-convert\" onclick=\"convertToInteractive('df-174a41bd-9e25-409e-a9bc-79e4b5db30ed')\"\n",
              "              title=\"Convert this dataframe to an interactive table.\"\n",
              "              style=\"display:none;\">\n",
              "        \n",
              "  <svg xmlns=\"http://www.w3.org/2000/svg\" height=\"24px\"viewBox=\"0 0 24 24\"\n",
              "       width=\"24px\">\n",
              "    <path d=\"M0 0h24v24H0V0z\" fill=\"none\"/>\n",
              "    <path d=\"M18.56 5.44l.94 2.06.94-2.06 2.06-.94-2.06-.94-.94-2.06-.94 2.06-2.06.94zm-11 1L8.5 8.5l.94-2.06 2.06-.94-2.06-.94L8.5 2.5l-.94 2.06-2.06.94zm10 10l.94 2.06.94-2.06 2.06-.94-2.06-.94-.94-2.06-.94 2.06-2.06.94z\"/><path d=\"M17.41 7.96l-1.37-1.37c-.4-.4-.92-.59-1.43-.59-.52 0-1.04.2-1.43.59L10.3 9.45l-7.72 7.72c-.78.78-.78 2.05 0 2.83L4 21.41c.39.39.9.59 1.41.59.51 0 1.02-.2 1.41-.59l7.78-7.78 2.81-2.81c.8-.78.8-2.07 0-2.86zM5.41 20L4 18.59l7.72-7.72 1.47 1.35L5.41 20z\"/>\n",
              "  </svg>\n",
              "      </button>\n",
              "      \n",
              "  <style>\n",
              "    .colab-df-container {\n",
              "      display:flex;\n",
              "      flex-wrap:wrap;\n",
              "      gap: 12px;\n",
              "    }\n",
              "\n",
              "    .colab-df-convert {\n",
              "      background-color: #E8F0FE;\n",
              "      border: none;\n",
              "      border-radius: 50%;\n",
              "      cursor: pointer;\n",
              "      display: none;\n",
              "      fill: #1967D2;\n",
              "      height: 32px;\n",
              "      padding: 0 0 0 0;\n",
              "      width: 32px;\n",
              "    }\n",
              "\n",
              "    .colab-df-convert:hover {\n",
              "      background-color: #E2EBFA;\n",
              "      box-shadow: 0px 1px 2px rgba(60, 64, 67, 0.3), 0px 1px 3px 1px rgba(60, 64, 67, 0.15);\n",
              "      fill: #174EA6;\n",
              "    }\n",
              "\n",
              "    [theme=dark] .colab-df-convert {\n",
              "      background-color: #3B4455;\n",
              "      fill: #D2E3FC;\n",
              "    }\n",
              "\n",
              "    [theme=dark] .colab-df-convert:hover {\n",
              "      background-color: #434B5C;\n",
              "      box-shadow: 0px 1px 3px 1px rgba(0, 0, 0, 0.15);\n",
              "      filter: drop-shadow(0px 1px 2px rgba(0, 0, 0, 0.3));\n",
              "      fill: #FFFFFF;\n",
              "    }\n",
              "  </style>\n",
              "\n",
              "      <script>\n",
              "        const buttonEl =\n",
              "          document.querySelector('#df-174a41bd-9e25-409e-a9bc-79e4b5db30ed button.colab-df-convert');\n",
              "        buttonEl.style.display =\n",
              "          google.colab.kernel.accessAllowed ? 'block' : 'none';\n",
              "\n",
              "        async function convertToInteractive(key) {\n",
              "          const element = document.querySelector('#df-174a41bd-9e25-409e-a9bc-79e4b5db30ed');\n",
              "          const dataTable =\n",
              "            await google.colab.kernel.invokeFunction('convertToInteractive',\n",
              "                                                     [key], {});\n",
              "          if (!dataTable) return;\n",
              "\n",
              "          const docLinkHtml = 'Like what you see? Visit the ' +\n",
              "            '<a target=\"_blank\" href=https://colab.research.google.com/notebooks/data_table.ipynb>data table notebook</a>'\n",
              "            + ' to learn more about interactive tables.';\n",
              "          element.innerHTML = '';\n",
              "          dataTable['output_type'] = 'display_data';\n",
              "          await google.colab.output.renderOutput(dataTable, element);\n",
              "          const docLink = document.createElement('div');\n",
              "          docLink.innerHTML = docLinkHtml;\n",
              "          element.appendChild(docLink);\n",
              "        }\n",
              "      </script>\n",
              "    </div>\n",
              "  </div>\n",
              "  "
            ]
          },
          "metadata": {},
          "execution_count": 40
        }
      ]
    },
    {
      "cell_type": "code",
      "source": [
        "nltk.download('punkt')"
      ],
      "metadata": {
        "colab": {
          "base_uri": "https://localhost:8080/"
        },
        "id": "lqqBWX1o_2YO",
        "outputId": "d2433094-a145-48c1-a36a-81d3a11dcd2d"
      },
      "execution_count": 41,
      "outputs": [
        {
          "output_type": "stream",
          "name": "stderr",
          "text": [
            "[nltk_data] Downloading package punkt to /root/nltk_data...\n",
            "[nltk_data]   Unzipping tokenizers/punkt.zip.\n"
          ]
        },
        {
          "output_type": "execute_result",
          "data": {
            "text/plain": [
              "True"
            ]
          },
          "metadata": {},
          "execution_count": 41
        }
      ]
    },
    {
      "cell_type": "markdown",
      "source": [
        "lets create a function that will clean the tweets and then store it in a new column"
      ],
      "metadata": {
        "id": "ehvHzqbuFvKg"
      }
    },
    {
      "cell_type": "code",
      "source": [
        "def transform_texts(text):\n",
        "  text=text.lower()\n",
        "  text=nltk.word_tokenize(text)\n",
        "\n",
        "  y=[]\n",
        "  for i in text:\n",
        "    if i.isalnum():\n",
        "      y.append(i)\n",
        "  text=y[:]\n",
        "  y.clear()\n",
        "\n",
        "  for i in text:\n",
        "    if i not in stopwords.words('english') and i not in string.punctuation:\n",
        "      y.append(i)\n",
        "\n",
        "  text=y[:]\n",
        "  y.clear()\n",
        "\n",
        "  for i in text:\n",
        "    if not i.isdigit():\n",
        "      y.append(i)\n",
        "  return \" \".join(y)"
      ],
      "metadata": {
        "id": "50ionqc05697"
      },
      "execution_count": 42,
      "outputs": []
    },
    {
      "cell_type": "markdown",
      "source": [
        "testing the above function by some random text"
      ],
      "metadata": {
        "id": "vkejqG6mGDTI"
      }
    },
    {
      "cell_type": "code",
      "source": [
        "transform_texts(\"Finally!!! A new game 100 % !! yeah\")"
      ],
      "metadata": {
        "colab": {
          "base_uri": "https://localhost:8080/",
          "height": 36
        },
        "id": "99K7AYLt43pJ",
        "outputId": "d2205d0c-1b53-4384-f7a3-5ebb8416daf1"
      },
      "execution_count": 43,
      "outputs": [
        {
          "output_type": "execute_result",
          "data": {
            "text/plain": [
              "'finally new game yeah'"
            ],
            "application/vnd.google.colaboratory.intrinsic+json": {
              "type": "string"
            }
          },
          "metadata": {},
          "execution_count": 43
        }
      ]
    },
    {
      "cell_type": "code",
      "source": [
        "data['Cleaned_Tweets']=data['Tweets']"
      ],
      "metadata": {
        "id": "jliwZnWk_k5Y"
      },
      "execution_count": 44,
      "outputs": []
    },
    {
      "cell_type": "code",
      "source": [
        "data.head()"
      ],
      "metadata": {
        "colab": {
          "base_uri": "https://localhost:8080/",
          "height": 371
        },
        "id": "LD0bkRjxXhSB",
        "outputId": "9163b435-fd1d-4233-c3d7-dab0619a504f"
      },
      "execution_count": 45,
      "outputs": [
        {
          "output_type": "execute_result",
          "data": {
            "text/plain": [
              "         Date Created  Number of Likes  \\\n",
              "0 2023-06-30 09:21:00                0   \n",
              "1 2023-06-30 09:20:57                0   \n",
              "2 2023-06-30 09:20:22                0   \n",
              "3 2023-06-30 09:20:00                3   \n",
              "4 2023-06-30 09:15:22                3   \n",
              "\n",
              "                                              Tweets        Date  Day  Month  \\\n",
              "0  #ENGvAUS #ENGvsAUS #AUSvENG #AUSvsENG #Adipuru...  2023-06-30   30      6   \n",
              "1  Now Playing!! Book Your Ticket Now!! 🎥🍿🎟️\\n@go...  2023-06-30   30      6   \n",
              "2                             @ponilemova #Adipurush  2023-06-30   30      6   \n",
              "3  Adipurush VS 72 Hoorain VS The Kerala Story Co...  2023-06-30   30      6   \n",
              "4             ST: #Adipurush https://t.co/lsGKcgQuKL  2023-06-30   30      6   \n",
              "\n",
              "   Year                Time  Hour  Minutes  Seconds  \\\n",
              "0  2023 2023-07-09 09:21:00     9       21        0   \n",
              "1  2023 2023-07-09 09:20:57     9       20       57   \n",
              "2  2023 2023-07-09 09:20:22     9       20       22   \n",
              "3  2023 2023-07-09 09:20:00     9       20        0   \n",
              "4  2023 2023-07-09 09:15:22     9       15       22   \n",
              "\n",
              "                                      Cleaned_Tweets  \n",
              "0  #ENGvAUS #ENGvsAUS #AUSvENG #AUSvsENG #Adipuru...  \n",
              "1  Now Playing!! Book Your Ticket Now!! 🎥🍿🎟️\\n@go...  \n",
              "2                             @ponilemova #Adipurush  \n",
              "3  Adipurush VS 72 Hoorain VS The Kerala Story Co...  \n",
              "4             ST: #Adipurush https://t.co/lsGKcgQuKL  "
            ],
            "text/html": [
              "\n",
              "  <div id=\"df-a083030d-183e-4571-99a5-b02755be7d1d\">\n",
              "    <div class=\"colab-df-container\">\n",
              "      <div>\n",
              "<style scoped>\n",
              "    .dataframe tbody tr th:only-of-type {\n",
              "        vertical-align: middle;\n",
              "    }\n",
              "\n",
              "    .dataframe tbody tr th {\n",
              "        vertical-align: top;\n",
              "    }\n",
              "\n",
              "    .dataframe thead th {\n",
              "        text-align: right;\n",
              "    }\n",
              "</style>\n",
              "<table border=\"1\" class=\"dataframe\">\n",
              "  <thead>\n",
              "    <tr style=\"text-align: right;\">\n",
              "      <th></th>\n",
              "      <th>Date Created</th>\n",
              "      <th>Number of Likes</th>\n",
              "      <th>Tweets</th>\n",
              "      <th>Date</th>\n",
              "      <th>Day</th>\n",
              "      <th>Month</th>\n",
              "      <th>Year</th>\n",
              "      <th>Time</th>\n",
              "      <th>Hour</th>\n",
              "      <th>Minutes</th>\n",
              "      <th>Seconds</th>\n",
              "      <th>Cleaned_Tweets</th>\n",
              "    </tr>\n",
              "  </thead>\n",
              "  <tbody>\n",
              "    <tr>\n",
              "      <th>0</th>\n",
              "      <td>2023-06-30 09:21:00</td>\n",
              "      <td>0</td>\n",
              "      <td>#ENGvAUS #ENGvsAUS #AUSvENG #AUSvsENG #Adipuru...</td>\n",
              "      <td>2023-06-30</td>\n",
              "      <td>30</td>\n",
              "      <td>6</td>\n",
              "      <td>2023</td>\n",
              "      <td>2023-07-09 09:21:00</td>\n",
              "      <td>9</td>\n",
              "      <td>21</td>\n",
              "      <td>0</td>\n",
              "      <td>#ENGvAUS #ENGvsAUS #AUSvENG #AUSvsENG #Adipuru...</td>\n",
              "    </tr>\n",
              "    <tr>\n",
              "      <th>1</th>\n",
              "      <td>2023-06-30 09:20:57</td>\n",
              "      <td>0</td>\n",
              "      <td>Now Playing!! Book Your Ticket Now!! 🎥🍿🎟️\\n@go...</td>\n",
              "      <td>2023-06-30</td>\n",
              "      <td>30</td>\n",
              "      <td>6</td>\n",
              "      <td>2023</td>\n",
              "      <td>2023-07-09 09:20:57</td>\n",
              "      <td>9</td>\n",
              "      <td>20</td>\n",
              "      <td>57</td>\n",
              "      <td>Now Playing!! Book Your Ticket Now!! 🎥🍿🎟️\\n@go...</td>\n",
              "    </tr>\n",
              "    <tr>\n",
              "      <th>2</th>\n",
              "      <td>2023-06-30 09:20:22</td>\n",
              "      <td>0</td>\n",
              "      <td>@ponilemova #Adipurush</td>\n",
              "      <td>2023-06-30</td>\n",
              "      <td>30</td>\n",
              "      <td>6</td>\n",
              "      <td>2023</td>\n",
              "      <td>2023-07-09 09:20:22</td>\n",
              "      <td>9</td>\n",
              "      <td>20</td>\n",
              "      <td>22</td>\n",
              "      <td>@ponilemova #Adipurush</td>\n",
              "    </tr>\n",
              "    <tr>\n",
              "      <th>3</th>\n",
              "      <td>2023-06-30 09:20:00</td>\n",
              "      <td>3</td>\n",
              "      <td>Adipurush VS 72 Hoorain VS The Kerala Story Co...</td>\n",
              "      <td>2023-06-30</td>\n",
              "      <td>30</td>\n",
              "      <td>6</td>\n",
              "      <td>2023</td>\n",
              "      <td>2023-07-09 09:20:00</td>\n",
              "      <td>9</td>\n",
              "      <td>20</td>\n",
              "      <td>0</td>\n",
              "      <td>Adipurush VS 72 Hoorain VS The Kerala Story Co...</td>\n",
              "    </tr>\n",
              "    <tr>\n",
              "      <th>4</th>\n",
              "      <td>2023-06-30 09:15:22</td>\n",
              "      <td>3</td>\n",
              "      <td>ST: #Adipurush https://t.co/lsGKcgQuKL</td>\n",
              "      <td>2023-06-30</td>\n",
              "      <td>30</td>\n",
              "      <td>6</td>\n",
              "      <td>2023</td>\n",
              "      <td>2023-07-09 09:15:22</td>\n",
              "      <td>9</td>\n",
              "      <td>15</td>\n",
              "      <td>22</td>\n",
              "      <td>ST: #Adipurush https://t.co/lsGKcgQuKL</td>\n",
              "    </tr>\n",
              "  </tbody>\n",
              "</table>\n",
              "</div>\n",
              "      <button class=\"colab-df-convert\" onclick=\"convertToInteractive('df-a083030d-183e-4571-99a5-b02755be7d1d')\"\n",
              "              title=\"Convert this dataframe to an interactive table.\"\n",
              "              style=\"display:none;\">\n",
              "        \n",
              "  <svg xmlns=\"http://www.w3.org/2000/svg\" height=\"24px\"viewBox=\"0 0 24 24\"\n",
              "       width=\"24px\">\n",
              "    <path d=\"M0 0h24v24H0V0z\" fill=\"none\"/>\n",
              "    <path d=\"M18.56 5.44l.94 2.06.94-2.06 2.06-.94-2.06-.94-.94-2.06-.94 2.06-2.06.94zm-11 1L8.5 8.5l.94-2.06 2.06-.94-2.06-.94L8.5 2.5l-.94 2.06-2.06.94zm10 10l.94 2.06.94-2.06 2.06-.94-2.06-.94-.94-2.06-.94 2.06-2.06.94z\"/><path d=\"M17.41 7.96l-1.37-1.37c-.4-.4-.92-.59-1.43-.59-.52 0-1.04.2-1.43.59L10.3 9.45l-7.72 7.72c-.78.78-.78 2.05 0 2.83L4 21.41c.39.39.9.59 1.41.59.51 0 1.02-.2 1.41-.59l7.78-7.78 2.81-2.81c.8-.78.8-2.07 0-2.86zM5.41 20L4 18.59l7.72-7.72 1.47 1.35L5.41 20z\"/>\n",
              "  </svg>\n",
              "      </button>\n",
              "      \n",
              "  <style>\n",
              "    .colab-df-container {\n",
              "      display:flex;\n",
              "      flex-wrap:wrap;\n",
              "      gap: 12px;\n",
              "    }\n",
              "\n",
              "    .colab-df-convert {\n",
              "      background-color: #E8F0FE;\n",
              "      border: none;\n",
              "      border-radius: 50%;\n",
              "      cursor: pointer;\n",
              "      display: none;\n",
              "      fill: #1967D2;\n",
              "      height: 32px;\n",
              "      padding: 0 0 0 0;\n",
              "      width: 32px;\n",
              "    }\n",
              "\n",
              "    .colab-df-convert:hover {\n",
              "      background-color: #E2EBFA;\n",
              "      box-shadow: 0px 1px 2px rgba(60, 64, 67, 0.3), 0px 1px 3px 1px rgba(60, 64, 67, 0.15);\n",
              "      fill: #174EA6;\n",
              "    }\n",
              "\n",
              "    [theme=dark] .colab-df-convert {\n",
              "      background-color: #3B4455;\n",
              "      fill: #D2E3FC;\n",
              "    }\n",
              "\n",
              "    [theme=dark] .colab-df-convert:hover {\n",
              "      background-color: #434B5C;\n",
              "      box-shadow: 0px 1px 3px 1px rgba(0, 0, 0, 0.15);\n",
              "      filter: drop-shadow(0px 1px 2px rgba(0, 0, 0, 0.3));\n",
              "      fill: #FFFFFF;\n",
              "    }\n",
              "  </style>\n",
              "\n",
              "      <script>\n",
              "        const buttonEl =\n",
              "          document.querySelector('#df-a083030d-183e-4571-99a5-b02755be7d1d button.colab-df-convert');\n",
              "        buttonEl.style.display =\n",
              "          google.colab.kernel.accessAllowed ? 'block' : 'none';\n",
              "\n",
              "        async function convertToInteractive(key) {\n",
              "          const element = document.querySelector('#df-a083030d-183e-4571-99a5-b02755be7d1d');\n",
              "          const dataTable =\n",
              "            await google.colab.kernel.invokeFunction('convertToInteractive',\n",
              "                                                     [key], {});\n",
              "          if (!dataTable) return;\n",
              "\n",
              "          const docLinkHtml = 'Like what you see? Visit the ' +\n",
              "            '<a target=\"_blank\" href=https://colab.research.google.com/notebooks/data_table.ipynb>data table notebook</a>'\n",
              "            + ' to learn more about interactive tables.';\n",
              "          element.innerHTML = '';\n",
              "          dataTable['output_type'] = 'display_data';\n",
              "          await google.colab.output.renderOutput(dataTable, element);\n",
              "          const docLink = document.createElement('div');\n",
              "          docLink.innerHTML = docLinkHtml;\n",
              "          element.appendChild(docLink);\n",
              "        }\n",
              "      </script>\n",
              "    </div>\n",
              "  </div>\n",
              "  "
            ]
          },
          "metadata": {},
          "execution_count": 45
        }
      ]
    },
    {
      "cell_type": "code",
      "source": [
        "data['Cleaned_Tweets']=data['Cleaned_Tweets'].apply(lambda x:transform_texts(x))"
      ],
      "metadata": {
        "id": "muWCABBXAXmo"
      },
      "execution_count": 46,
      "outputs": []
    },
    {
      "cell_type": "code",
      "source": [
        "data.head()"
      ],
      "metadata": {
        "colab": {
          "base_uri": "https://localhost:8080/",
          "height": 371
        },
        "id": "T09-dGFzAhq5",
        "outputId": "6c4cd609-f17a-42ee-8d72-379f8239cdfb"
      },
      "execution_count": 47,
      "outputs": [
        {
          "output_type": "execute_result",
          "data": {
            "text/plain": [
              "         Date Created  Number of Likes  \\\n",
              "0 2023-06-30 09:21:00                0   \n",
              "1 2023-06-30 09:20:57                0   \n",
              "2 2023-06-30 09:20:22                0   \n",
              "3 2023-06-30 09:20:00                3   \n",
              "4 2023-06-30 09:15:22                3   \n",
              "\n",
              "                                              Tweets        Date  Day  Month  \\\n",
              "0  #ENGvAUS #ENGvsAUS #AUSvENG #AUSvsENG #Adipuru...  2023-06-30   30      6   \n",
              "1  Now Playing!! Book Your Ticket Now!! 🎥🍿🎟️\\n@go...  2023-06-30   30      6   \n",
              "2                             @ponilemova #Adipurush  2023-06-30   30      6   \n",
              "3  Adipurush VS 72 Hoorain VS The Kerala Story Co...  2023-06-30   30      6   \n",
              "4             ST: #Adipurush https://t.co/lsGKcgQuKL  2023-06-30   30      6   \n",
              "\n",
              "   Year                Time  Hour  Minutes  Seconds  \\\n",
              "0  2023 2023-07-09 09:21:00     9       21        0   \n",
              "1  2023 2023-07-09 09:20:57     9       20       57   \n",
              "2  2023 2023-07-09 09:20:22     9       20       22   \n",
              "3  2023 2023-07-09 09:20:00     9       20        0   \n",
              "4  2023 2023-07-09 09:15:22     9       15       22   \n",
              "\n",
              "                                      Cleaned_Tweets  \n",
              "0  engvaus engvsaus ausveng ausvseng adipurush as...  \n",
              "1  playing book ticket gopalancinemas movies adip...  \n",
              "2                               ponilemova adipurush  \n",
              "3  adipurush vs hoorain vs kerala story controver...  \n",
              "4                                 st adipurush https  "
            ],
            "text/html": [
              "\n",
              "  <div id=\"df-db0e1a9b-0ad0-4c36-8a7f-e02689c405ac\">\n",
              "    <div class=\"colab-df-container\">\n",
              "      <div>\n",
              "<style scoped>\n",
              "    .dataframe tbody tr th:only-of-type {\n",
              "        vertical-align: middle;\n",
              "    }\n",
              "\n",
              "    .dataframe tbody tr th {\n",
              "        vertical-align: top;\n",
              "    }\n",
              "\n",
              "    .dataframe thead th {\n",
              "        text-align: right;\n",
              "    }\n",
              "</style>\n",
              "<table border=\"1\" class=\"dataframe\">\n",
              "  <thead>\n",
              "    <tr style=\"text-align: right;\">\n",
              "      <th></th>\n",
              "      <th>Date Created</th>\n",
              "      <th>Number of Likes</th>\n",
              "      <th>Tweets</th>\n",
              "      <th>Date</th>\n",
              "      <th>Day</th>\n",
              "      <th>Month</th>\n",
              "      <th>Year</th>\n",
              "      <th>Time</th>\n",
              "      <th>Hour</th>\n",
              "      <th>Minutes</th>\n",
              "      <th>Seconds</th>\n",
              "      <th>Cleaned_Tweets</th>\n",
              "    </tr>\n",
              "  </thead>\n",
              "  <tbody>\n",
              "    <tr>\n",
              "      <th>0</th>\n",
              "      <td>2023-06-30 09:21:00</td>\n",
              "      <td>0</td>\n",
              "      <td>#ENGvAUS #ENGvsAUS #AUSvENG #AUSvsENG #Adipuru...</td>\n",
              "      <td>2023-06-30</td>\n",
              "      <td>30</td>\n",
              "      <td>6</td>\n",
              "      <td>2023</td>\n",
              "      <td>2023-07-09 09:21:00</td>\n",
              "      <td>9</td>\n",
              "      <td>21</td>\n",
              "      <td>0</td>\n",
              "      <td>engvaus engvsaus ausveng ausvseng adipurush as...</td>\n",
              "    </tr>\n",
              "    <tr>\n",
              "      <th>1</th>\n",
              "      <td>2023-06-30 09:20:57</td>\n",
              "      <td>0</td>\n",
              "      <td>Now Playing!! Book Your Ticket Now!! 🎥🍿🎟️\\n@go...</td>\n",
              "      <td>2023-06-30</td>\n",
              "      <td>30</td>\n",
              "      <td>6</td>\n",
              "      <td>2023</td>\n",
              "      <td>2023-07-09 09:20:57</td>\n",
              "      <td>9</td>\n",
              "      <td>20</td>\n",
              "      <td>57</td>\n",
              "      <td>playing book ticket gopalancinemas movies adip...</td>\n",
              "    </tr>\n",
              "    <tr>\n",
              "      <th>2</th>\n",
              "      <td>2023-06-30 09:20:22</td>\n",
              "      <td>0</td>\n",
              "      <td>@ponilemova #Adipurush</td>\n",
              "      <td>2023-06-30</td>\n",
              "      <td>30</td>\n",
              "      <td>6</td>\n",
              "      <td>2023</td>\n",
              "      <td>2023-07-09 09:20:22</td>\n",
              "      <td>9</td>\n",
              "      <td>20</td>\n",
              "      <td>22</td>\n",
              "      <td>ponilemova adipurush</td>\n",
              "    </tr>\n",
              "    <tr>\n",
              "      <th>3</th>\n",
              "      <td>2023-06-30 09:20:00</td>\n",
              "      <td>3</td>\n",
              "      <td>Adipurush VS 72 Hoorain VS The Kerala Story Co...</td>\n",
              "      <td>2023-06-30</td>\n",
              "      <td>30</td>\n",
              "      <td>6</td>\n",
              "      <td>2023</td>\n",
              "      <td>2023-07-09 09:20:00</td>\n",
              "      <td>9</td>\n",
              "      <td>20</td>\n",
              "      <td>0</td>\n",
              "      <td>adipurush vs hoorain vs kerala story controver...</td>\n",
              "    </tr>\n",
              "    <tr>\n",
              "      <th>4</th>\n",
              "      <td>2023-06-30 09:15:22</td>\n",
              "      <td>3</td>\n",
              "      <td>ST: #Adipurush https://t.co/lsGKcgQuKL</td>\n",
              "      <td>2023-06-30</td>\n",
              "      <td>30</td>\n",
              "      <td>6</td>\n",
              "      <td>2023</td>\n",
              "      <td>2023-07-09 09:15:22</td>\n",
              "      <td>9</td>\n",
              "      <td>15</td>\n",
              "      <td>22</td>\n",
              "      <td>st adipurush https</td>\n",
              "    </tr>\n",
              "  </tbody>\n",
              "</table>\n",
              "</div>\n",
              "      <button class=\"colab-df-convert\" onclick=\"convertToInteractive('df-db0e1a9b-0ad0-4c36-8a7f-e02689c405ac')\"\n",
              "              title=\"Convert this dataframe to an interactive table.\"\n",
              "              style=\"display:none;\">\n",
              "        \n",
              "  <svg xmlns=\"http://www.w3.org/2000/svg\" height=\"24px\"viewBox=\"0 0 24 24\"\n",
              "       width=\"24px\">\n",
              "    <path d=\"M0 0h24v24H0V0z\" fill=\"none\"/>\n",
              "    <path d=\"M18.56 5.44l.94 2.06.94-2.06 2.06-.94-2.06-.94-.94-2.06-.94 2.06-2.06.94zm-11 1L8.5 8.5l.94-2.06 2.06-.94-2.06-.94L8.5 2.5l-.94 2.06-2.06.94zm10 10l.94 2.06.94-2.06 2.06-.94-2.06-.94-.94-2.06-.94 2.06-2.06.94z\"/><path d=\"M17.41 7.96l-1.37-1.37c-.4-.4-.92-.59-1.43-.59-.52 0-1.04.2-1.43.59L10.3 9.45l-7.72 7.72c-.78.78-.78 2.05 0 2.83L4 21.41c.39.39.9.59 1.41.59.51 0 1.02-.2 1.41-.59l7.78-7.78 2.81-2.81c.8-.78.8-2.07 0-2.86zM5.41 20L4 18.59l7.72-7.72 1.47 1.35L5.41 20z\"/>\n",
              "  </svg>\n",
              "      </button>\n",
              "      \n",
              "  <style>\n",
              "    .colab-df-container {\n",
              "      display:flex;\n",
              "      flex-wrap:wrap;\n",
              "      gap: 12px;\n",
              "    }\n",
              "\n",
              "    .colab-df-convert {\n",
              "      background-color: #E8F0FE;\n",
              "      border: none;\n",
              "      border-radius: 50%;\n",
              "      cursor: pointer;\n",
              "      display: none;\n",
              "      fill: #1967D2;\n",
              "      height: 32px;\n",
              "      padding: 0 0 0 0;\n",
              "      width: 32px;\n",
              "    }\n",
              "\n",
              "    .colab-df-convert:hover {\n",
              "      background-color: #E2EBFA;\n",
              "      box-shadow: 0px 1px 2px rgba(60, 64, 67, 0.3), 0px 1px 3px 1px rgba(60, 64, 67, 0.15);\n",
              "      fill: #174EA6;\n",
              "    }\n",
              "\n",
              "    [theme=dark] .colab-df-convert {\n",
              "      background-color: #3B4455;\n",
              "      fill: #D2E3FC;\n",
              "    }\n",
              "\n",
              "    [theme=dark] .colab-df-convert:hover {\n",
              "      background-color: #434B5C;\n",
              "      box-shadow: 0px 1px 3px 1px rgba(0, 0, 0, 0.15);\n",
              "      filter: drop-shadow(0px 1px 2px rgba(0, 0, 0, 0.3));\n",
              "      fill: #FFFFFF;\n",
              "    }\n",
              "  </style>\n",
              "\n",
              "      <script>\n",
              "        const buttonEl =\n",
              "          document.querySelector('#df-db0e1a9b-0ad0-4c36-8a7f-e02689c405ac button.colab-df-convert');\n",
              "        buttonEl.style.display =\n",
              "          google.colab.kernel.accessAllowed ? 'block' : 'none';\n",
              "\n",
              "        async function convertToInteractive(key) {\n",
              "          const element = document.querySelector('#df-db0e1a9b-0ad0-4c36-8a7f-e02689c405ac');\n",
              "          const dataTable =\n",
              "            await google.colab.kernel.invokeFunction('convertToInteractive',\n",
              "                                                     [key], {});\n",
              "          if (!dataTable) return;\n",
              "\n",
              "          const docLinkHtml = 'Like what you see? Visit the ' +\n",
              "            '<a target=\"_blank\" href=https://colab.research.google.com/notebooks/data_table.ipynb>data table notebook</a>'\n",
              "            + ' to learn more about interactive tables.';\n",
              "          element.innerHTML = '';\n",
              "          dataTable['output_type'] = 'display_data';\n",
              "          await google.colab.output.renderOutput(dataTable, element);\n",
              "          const docLink = document.createElement('div');\n",
              "          docLink.innerHTML = docLinkHtml;\n",
              "          element.appendChild(docLink);\n",
              "        }\n",
              "      </script>\n",
              "    </div>\n",
              "  </div>\n",
              "  "
            ]
          },
          "metadata": {},
          "execution_count": 47
        }
      ]
    },
    {
      "cell_type": "markdown",
      "source": [
        "checking the data types of the columns of the dataset"
      ],
      "metadata": {
        "id": "odtNx7TjGOxf"
      }
    },
    {
      "cell_type": "code",
      "source": [
        "data.dtypes"
      ],
      "metadata": {
        "colab": {
          "base_uri": "https://localhost:8080/"
        },
        "id": "TXSamkxlD-b3",
        "outputId": "bc1cc378-924a-4d32-a5c3-b3d457e312df"
      },
      "execution_count": 48,
      "outputs": [
        {
          "output_type": "execute_result",
          "data": {
            "text/plain": [
              "Date Created       datetime64[ns]\n",
              "Number of Likes             int64\n",
              "Tweets                     object\n",
              "Date                       object\n",
              "Day                         int64\n",
              "Month                       int64\n",
              "Year                        int64\n",
              "Time               datetime64[ns]\n",
              "Hour                        int64\n",
              "Minutes                     int64\n",
              "Seconds                     int64\n",
              "Cleaned_Tweets             object\n",
              "dtype: object"
            ]
          },
          "metadata": {},
          "execution_count": 48
        }
      ]
    },
    {
      "cell_type": "markdown",
      "source": [
        "lets tokenize this newly created cleaned tweets column"
      ],
      "metadata": {
        "id": "Ld-1l89qGXgr"
      }
    },
    {
      "cell_type": "code",
      "source": [
        "data['Cleaned_Tweets']=data['Cleaned_Tweets'].apply(lambda x:word_tokenize(x))"
      ],
      "metadata": {
        "id": "g_2Z48eHGTEy"
      },
      "execution_count": 49,
      "outputs": []
    },
    {
      "cell_type": "code",
      "source": [
        "data.head()"
      ],
      "metadata": {
        "colab": {
          "base_uri": "https://localhost:8080/",
          "height": 371
        },
        "id": "iM5xlxdXBi8c",
        "outputId": "c672900b-9884-40b4-ac8c-d1131ce4d87b"
      },
      "execution_count": 50,
      "outputs": [
        {
          "output_type": "execute_result",
          "data": {
            "text/plain": [
              "         Date Created  Number of Likes  \\\n",
              "0 2023-06-30 09:21:00                0   \n",
              "1 2023-06-30 09:20:57                0   \n",
              "2 2023-06-30 09:20:22                0   \n",
              "3 2023-06-30 09:20:00                3   \n",
              "4 2023-06-30 09:15:22                3   \n",
              "\n",
              "                                              Tweets        Date  Day  Month  \\\n",
              "0  #ENGvAUS #ENGvsAUS #AUSvENG #AUSvsENG #Adipuru...  2023-06-30   30      6   \n",
              "1  Now Playing!! Book Your Ticket Now!! 🎥🍿🎟️\\n@go...  2023-06-30   30      6   \n",
              "2                             @ponilemova #Adipurush  2023-06-30   30      6   \n",
              "3  Adipurush VS 72 Hoorain VS The Kerala Story Co...  2023-06-30   30      6   \n",
              "4             ST: #Adipurush https://t.co/lsGKcgQuKL  2023-06-30   30      6   \n",
              "\n",
              "   Year                Time  Hour  Minutes  Seconds  \\\n",
              "0  2023 2023-07-09 09:21:00     9       21        0   \n",
              "1  2023 2023-07-09 09:20:57     9       20       57   \n",
              "2  2023 2023-07-09 09:20:22     9       20       22   \n",
              "3  2023 2023-07-09 09:20:00     9       20        0   \n",
              "4  2023 2023-07-09 09:15:22     9       15       22   \n",
              "\n",
              "                                      Cleaned_Tweets  \n",
              "0  [engvaus, engvsaus, ausveng, ausvseng, adipuru...  \n",
              "1  [playing, book, ticket, gopalancinemas, movies...  \n",
              "2                            [ponilemova, adipurush]  \n",
              "3  [adipurush, vs, hoorain, vs, kerala, story, co...  \n",
              "4                             [st, adipurush, https]  "
            ],
            "text/html": [
              "\n",
              "  <div id=\"df-de6f6a75-eb7b-4b19-9d15-ae182b17e4e1\">\n",
              "    <div class=\"colab-df-container\">\n",
              "      <div>\n",
              "<style scoped>\n",
              "    .dataframe tbody tr th:only-of-type {\n",
              "        vertical-align: middle;\n",
              "    }\n",
              "\n",
              "    .dataframe tbody tr th {\n",
              "        vertical-align: top;\n",
              "    }\n",
              "\n",
              "    .dataframe thead th {\n",
              "        text-align: right;\n",
              "    }\n",
              "</style>\n",
              "<table border=\"1\" class=\"dataframe\">\n",
              "  <thead>\n",
              "    <tr style=\"text-align: right;\">\n",
              "      <th></th>\n",
              "      <th>Date Created</th>\n",
              "      <th>Number of Likes</th>\n",
              "      <th>Tweets</th>\n",
              "      <th>Date</th>\n",
              "      <th>Day</th>\n",
              "      <th>Month</th>\n",
              "      <th>Year</th>\n",
              "      <th>Time</th>\n",
              "      <th>Hour</th>\n",
              "      <th>Minutes</th>\n",
              "      <th>Seconds</th>\n",
              "      <th>Cleaned_Tweets</th>\n",
              "    </tr>\n",
              "  </thead>\n",
              "  <tbody>\n",
              "    <tr>\n",
              "      <th>0</th>\n",
              "      <td>2023-06-30 09:21:00</td>\n",
              "      <td>0</td>\n",
              "      <td>#ENGvAUS #ENGvsAUS #AUSvENG #AUSvsENG #Adipuru...</td>\n",
              "      <td>2023-06-30</td>\n",
              "      <td>30</td>\n",
              "      <td>6</td>\n",
              "      <td>2023</td>\n",
              "      <td>2023-07-09 09:21:00</td>\n",
              "      <td>9</td>\n",
              "      <td>21</td>\n",
              "      <td>0</td>\n",
              "      <td>[engvaus, engvsaus, ausveng, ausvseng, adipuru...</td>\n",
              "    </tr>\n",
              "    <tr>\n",
              "      <th>1</th>\n",
              "      <td>2023-06-30 09:20:57</td>\n",
              "      <td>0</td>\n",
              "      <td>Now Playing!! Book Your Ticket Now!! 🎥🍿🎟️\\n@go...</td>\n",
              "      <td>2023-06-30</td>\n",
              "      <td>30</td>\n",
              "      <td>6</td>\n",
              "      <td>2023</td>\n",
              "      <td>2023-07-09 09:20:57</td>\n",
              "      <td>9</td>\n",
              "      <td>20</td>\n",
              "      <td>57</td>\n",
              "      <td>[playing, book, ticket, gopalancinemas, movies...</td>\n",
              "    </tr>\n",
              "    <tr>\n",
              "      <th>2</th>\n",
              "      <td>2023-06-30 09:20:22</td>\n",
              "      <td>0</td>\n",
              "      <td>@ponilemova #Adipurush</td>\n",
              "      <td>2023-06-30</td>\n",
              "      <td>30</td>\n",
              "      <td>6</td>\n",
              "      <td>2023</td>\n",
              "      <td>2023-07-09 09:20:22</td>\n",
              "      <td>9</td>\n",
              "      <td>20</td>\n",
              "      <td>22</td>\n",
              "      <td>[ponilemova, adipurush]</td>\n",
              "    </tr>\n",
              "    <tr>\n",
              "      <th>3</th>\n",
              "      <td>2023-06-30 09:20:00</td>\n",
              "      <td>3</td>\n",
              "      <td>Adipurush VS 72 Hoorain VS The Kerala Story Co...</td>\n",
              "      <td>2023-06-30</td>\n",
              "      <td>30</td>\n",
              "      <td>6</td>\n",
              "      <td>2023</td>\n",
              "      <td>2023-07-09 09:20:00</td>\n",
              "      <td>9</td>\n",
              "      <td>20</td>\n",
              "      <td>0</td>\n",
              "      <td>[adipurush, vs, hoorain, vs, kerala, story, co...</td>\n",
              "    </tr>\n",
              "    <tr>\n",
              "      <th>4</th>\n",
              "      <td>2023-06-30 09:15:22</td>\n",
              "      <td>3</td>\n",
              "      <td>ST: #Adipurush https://t.co/lsGKcgQuKL</td>\n",
              "      <td>2023-06-30</td>\n",
              "      <td>30</td>\n",
              "      <td>6</td>\n",
              "      <td>2023</td>\n",
              "      <td>2023-07-09 09:15:22</td>\n",
              "      <td>9</td>\n",
              "      <td>15</td>\n",
              "      <td>22</td>\n",
              "      <td>[st, adipurush, https]</td>\n",
              "    </tr>\n",
              "  </tbody>\n",
              "</table>\n",
              "</div>\n",
              "      <button class=\"colab-df-convert\" onclick=\"convertToInteractive('df-de6f6a75-eb7b-4b19-9d15-ae182b17e4e1')\"\n",
              "              title=\"Convert this dataframe to an interactive table.\"\n",
              "              style=\"display:none;\">\n",
              "        \n",
              "  <svg xmlns=\"http://www.w3.org/2000/svg\" height=\"24px\"viewBox=\"0 0 24 24\"\n",
              "       width=\"24px\">\n",
              "    <path d=\"M0 0h24v24H0V0z\" fill=\"none\"/>\n",
              "    <path d=\"M18.56 5.44l.94 2.06.94-2.06 2.06-.94-2.06-.94-.94-2.06-.94 2.06-2.06.94zm-11 1L8.5 8.5l.94-2.06 2.06-.94-2.06-.94L8.5 2.5l-.94 2.06-2.06.94zm10 10l.94 2.06.94-2.06 2.06-.94-2.06-.94-.94-2.06-.94 2.06-2.06.94z\"/><path d=\"M17.41 7.96l-1.37-1.37c-.4-.4-.92-.59-1.43-.59-.52 0-1.04.2-1.43.59L10.3 9.45l-7.72 7.72c-.78.78-.78 2.05 0 2.83L4 21.41c.39.39.9.59 1.41.59.51 0 1.02-.2 1.41-.59l7.78-7.78 2.81-2.81c.8-.78.8-2.07 0-2.86zM5.41 20L4 18.59l7.72-7.72 1.47 1.35L5.41 20z\"/>\n",
              "  </svg>\n",
              "      </button>\n",
              "      \n",
              "  <style>\n",
              "    .colab-df-container {\n",
              "      display:flex;\n",
              "      flex-wrap:wrap;\n",
              "      gap: 12px;\n",
              "    }\n",
              "\n",
              "    .colab-df-convert {\n",
              "      background-color: #E8F0FE;\n",
              "      border: none;\n",
              "      border-radius: 50%;\n",
              "      cursor: pointer;\n",
              "      display: none;\n",
              "      fill: #1967D2;\n",
              "      height: 32px;\n",
              "      padding: 0 0 0 0;\n",
              "      width: 32px;\n",
              "    }\n",
              "\n",
              "    .colab-df-convert:hover {\n",
              "      background-color: #E2EBFA;\n",
              "      box-shadow: 0px 1px 2px rgba(60, 64, 67, 0.3), 0px 1px 3px 1px rgba(60, 64, 67, 0.15);\n",
              "      fill: #174EA6;\n",
              "    }\n",
              "\n",
              "    [theme=dark] .colab-df-convert {\n",
              "      background-color: #3B4455;\n",
              "      fill: #D2E3FC;\n",
              "    }\n",
              "\n",
              "    [theme=dark] .colab-df-convert:hover {\n",
              "      background-color: #434B5C;\n",
              "      box-shadow: 0px 1px 3px 1px rgba(0, 0, 0, 0.15);\n",
              "      filter: drop-shadow(0px 1px 2px rgba(0, 0, 0, 0.3));\n",
              "      fill: #FFFFFF;\n",
              "    }\n",
              "  </style>\n",
              "\n",
              "      <script>\n",
              "        const buttonEl =\n",
              "          document.querySelector('#df-de6f6a75-eb7b-4b19-9d15-ae182b17e4e1 button.colab-df-convert');\n",
              "        buttonEl.style.display =\n",
              "          google.colab.kernel.accessAllowed ? 'block' : 'none';\n",
              "\n",
              "        async function convertToInteractive(key) {\n",
              "          const element = document.querySelector('#df-de6f6a75-eb7b-4b19-9d15-ae182b17e4e1');\n",
              "          const dataTable =\n",
              "            await google.colab.kernel.invokeFunction('convertToInteractive',\n",
              "                                                     [key], {});\n",
              "          if (!dataTable) return;\n",
              "\n",
              "          const docLinkHtml = 'Like what you see? Visit the ' +\n",
              "            '<a target=\"_blank\" href=https://colab.research.google.com/notebooks/data_table.ipynb>data table notebook</a>'\n",
              "            + ' to learn more about interactive tables.';\n",
              "          element.innerHTML = '';\n",
              "          dataTable['output_type'] = 'display_data';\n",
              "          await google.colab.output.renderOutput(dataTable, element);\n",
              "          const docLink = document.createElement('div');\n",
              "          docLink.innerHTML = docLinkHtml;\n",
              "          element.appendChild(docLink);\n",
              "        }\n",
              "      </script>\n",
              "    </div>\n",
              "  </div>\n",
              "  "
            ]
          },
          "metadata": {},
          "execution_count": 50
        }
      ]
    },
    {
      "cell_type": "code",
      "source": [
        "data.dtypes"
      ],
      "metadata": {
        "colab": {
          "base_uri": "https://localhost:8080/"
        },
        "id": "-2K5cP26BkWD",
        "outputId": "d41d098f-ee08-424b-ed7f-6c0e467fad4d"
      },
      "execution_count": 51,
      "outputs": [
        {
          "output_type": "execute_result",
          "data": {
            "text/plain": [
              "Date Created       datetime64[ns]\n",
              "Number of Likes             int64\n",
              "Tweets                     object\n",
              "Date                       object\n",
              "Day                         int64\n",
              "Month                       int64\n",
              "Year                        int64\n",
              "Time               datetime64[ns]\n",
              "Hour                        int64\n",
              "Minutes                     int64\n",
              "Seconds                     int64\n",
              "Cleaned_Tweets             object\n",
              "dtype: object"
            ]
          },
          "metadata": {},
          "execution_count": 51
        }
      ]
    },
    {
      "cell_type": "markdown",
      "source": [
        "now using the textblob , we will categorize tweets into 'positive' , 'negative' or 'neutral'"
      ],
      "metadata": {
        "id": "RvQ7ob-KGeI6"
      }
    },
    {
      "cell_type": "code",
      "source": [
        "def analyze(text):\n",
        "    # Create a TextBlob object with the tweet\n",
        "    blob = TextBlob(text)\n",
        "\n",
        "    # Perform sentiment analysis using the polarity property\n",
        "    polarity = blob.sentiment.polarity\n",
        "\n",
        "    if polarity > 0:\n",
        "        return \"Positive\"\n",
        "    elif polarity < 0:\n",
        "        return \"Negative\"\n",
        "    else:\n",
        "        return \"Neutral\"\n"
      ],
      "metadata": {
        "id": "xQGjNxPUJcZq"
      },
      "execution_count": 52,
      "outputs": []
    },
    {
      "cell_type": "markdown",
      "source": [
        "creating a new column of category"
      ],
      "metadata": {
        "id": "GFiZR0QYGqPL"
      }
    },
    {
      "cell_type": "code",
      "source": [
        "data['Category']=data['Tweets'].apply(analyze)"
      ],
      "metadata": {
        "id": "Afal0JyvPKNz"
      },
      "execution_count": 53,
      "outputs": []
    },
    {
      "cell_type": "code",
      "source": [
        "data.head()"
      ],
      "metadata": {
        "colab": {
          "base_uri": "https://localhost:8080/",
          "height": 389
        },
        "id": "7pgh3RL4PTzP",
        "outputId": "c7ca1b5c-130c-471b-9921-e166b64f520d"
      },
      "execution_count": 54,
      "outputs": [
        {
          "output_type": "execute_result",
          "data": {
            "text/plain": [
              "         Date Created  Number of Likes  \\\n",
              "0 2023-06-30 09:21:00                0   \n",
              "1 2023-06-30 09:20:57                0   \n",
              "2 2023-06-30 09:20:22                0   \n",
              "3 2023-06-30 09:20:00                3   \n",
              "4 2023-06-30 09:15:22                3   \n",
              "\n",
              "                                              Tweets        Date  Day  Month  \\\n",
              "0  #ENGvAUS #ENGvsAUS #AUSvENG #AUSvsENG #Adipuru...  2023-06-30   30      6   \n",
              "1  Now Playing!! Book Your Ticket Now!! 🎥🍿🎟️\\n@go...  2023-06-30   30      6   \n",
              "2                             @ponilemova #Adipurush  2023-06-30   30      6   \n",
              "3  Adipurush VS 72 Hoorain VS The Kerala Story Co...  2023-06-30   30      6   \n",
              "4             ST: #Adipurush https://t.co/lsGKcgQuKL  2023-06-30   30      6   \n",
              "\n",
              "   Year                Time  Hour  Minutes  Seconds  \\\n",
              "0  2023 2023-07-09 09:21:00     9       21        0   \n",
              "1  2023 2023-07-09 09:20:57     9       20       57   \n",
              "2  2023 2023-07-09 09:20:22     9       20       22   \n",
              "3  2023 2023-07-09 09:20:00     9       20        0   \n",
              "4  2023 2023-07-09 09:15:22     9       15       22   \n",
              "\n",
              "                                      Cleaned_Tweets  Category  \n",
              "0  [engvaus, engvsaus, ausveng, ausvseng, adipuru...  Positive  \n",
              "1  [playing, book, ticket, gopalancinemas, movies...   Neutral  \n",
              "2                            [ponilemova, adipurush]   Neutral  \n",
              "3  [adipurush, vs, hoorain, vs, kerala, story, co...   Neutral  \n",
              "4                             [st, adipurush, https]   Neutral  "
            ],
            "text/html": [
              "\n",
              "  <div id=\"df-272e27a2-f3d3-4417-a156-d902797e97e3\">\n",
              "    <div class=\"colab-df-container\">\n",
              "      <div>\n",
              "<style scoped>\n",
              "    .dataframe tbody tr th:only-of-type {\n",
              "        vertical-align: middle;\n",
              "    }\n",
              "\n",
              "    .dataframe tbody tr th {\n",
              "        vertical-align: top;\n",
              "    }\n",
              "\n",
              "    .dataframe thead th {\n",
              "        text-align: right;\n",
              "    }\n",
              "</style>\n",
              "<table border=\"1\" class=\"dataframe\">\n",
              "  <thead>\n",
              "    <tr style=\"text-align: right;\">\n",
              "      <th></th>\n",
              "      <th>Date Created</th>\n",
              "      <th>Number of Likes</th>\n",
              "      <th>Tweets</th>\n",
              "      <th>Date</th>\n",
              "      <th>Day</th>\n",
              "      <th>Month</th>\n",
              "      <th>Year</th>\n",
              "      <th>Time</th>\n",
              "      <th>Hour</th>\n",
              "      <th>Minutes</th>\n",
              "      <th>Seconds</th>\n",
              "      <th>Cleaned_Tweets</th>\n",
              "      <th>Category</th>\n",
              "    </tr>\n",
              "  </thead>\n",
              "  <tbody>\n",
              "    <tr>\n",
              "      <th>0</th>\n",
              "      <td>2023-06-30 09:21:00</td>\n",
              "      <td>0</td>\n",
              "      <td>#ENGvAUS #ENGvsAUS #AUSvENG #AUSvsENG #Adipuru...</td>\n",
              "      <td>2023-06-30</td>\n",
              "      <td>30</td>\n",
              "      <td>6</td>\n",
              "      <td>2023</td>\n",
              "      <td>2023-07-09 09:21:00</td>\n",
              "      <td>9</td>\n",
              "      <td>21</td>\n",
              "      <td>0</td>\n",
              "      <td>[engvaus, engvsaus, ausveng, ausvseng, adipuru...</td>\n",
              "      <td>Positive</td>\n",
              "    </tr>\n",
              "    <tr>\n",
              "      <th>1</th>\n",
              "      <td>2023-06-30 09:20:57</td>\n",
              "      <td>0</td>\n",
              "      <td>Now Playing!! Book Your Ticket Now!! 🎥🍿🎟️\\n@go...</td>\n",
              "      <td>2023-06-30</td>\n",
              "      <td>30</td>\n",
              "      <td>6</td>\n",
              "      <td>2023</td>\n",
              "      <td>2023-07-09 09:20:57</td>\n",
              "      <td>9</td>\n",
              "      <td>20</td>\n",
              "      <td>57</td>\n",
              "      <td>[playing, book, ticket, gopalancinemas, movies...</td>\n",
              "      <td>Neutral</td>\n",
              "    </tr>\n",
              "    <tr>\n",
              "      <th>2</th>\n",
              "      <td>2023-06-30 09:20:22</td>\n",
              "      <td>0</td>\n",
              "      <td>@ponilemova #Adipurush</td>\n",
              "      <td>2023-06-30</td>\n",
              "      <td>30</td>\n",
              "      <td>6</td>\n",
              "      <td>2023</td>\n",
              "      <td>2023-07-09 09:20:22</td>\n",
              "      <td>9</td>\n",
              "      <td>20</td>\n",
              "      <td>22</td>\n",
              "      <td>[ponilemova, adipurush]</td>\n",
              "      <td>Neutral</td>\n",
              "    </tr>\n",
              "    <tr>\n",
              "      <th>3</th>\n",
              "      <td>2023-06-30 09:20:00</td>\n",
              "      <td>3</td>\n",
              "      <td>Adipurush VS 72 Hoorain VS The Kerala Story Co...</td>\n",
              "      <td>2023-06-30</td>\n",
              "      <td>30</td>\n",
              "      <td>6</td>\n",
              "      <td>2023</td>\n",
              "      <td>2023-07-09 09:20:00</td>\n",
              "      <td>9</td>\n",
              "      <td>20</td>\n",
              "      <td>0</td>\n",
              "      <td>[adipurush, vs, hoorain, vs, kerala, story, co...</td>\n",
              "      <td>Neutral</td>\n",
              "    </tr>\n",
              "    <tr>\n",
              "      <th>4</th>\n",
              "      <td>2023-06-30 09:15:22</td>\n",
              "      <td>3</td>\n",
              "      <td>ST: #Adipurush https://t.co/lsGKcgQuKL</td>\n",
              "      <td>2023-06-30</td>\n",
              "      <td>30</td>\n",
              "      <td>6</td>\n",
              "      <td>2023</td>\n",
              "      <td>2023-07-09 09:15:22</td>\n",
              "      <td>9</td>\n",
              "      <td>15</td>\n",
              "      <td>22</td>\n",
              "      <td>[st, adipurush, https]</td>\n",
              "      <td>Neutral</td>\n",
              "    </tr>\n",
              "  </tbody>\n",
              "</table>\n",
              "</div>\n",
              "      <button class=\"colab-df-convert\" onclick=\"convertToInteractive('df-272e27a2-f3d3-4417-a156-d902797e97e3')\"\n",
              "              title=\"Convert this dataframe to an interactive table.\"\n",
              "              style=\"display:none;\">\n",
              "        \n",
              "  <svg xmlns=\"http://www.w3.org/2000/svg\" height=\"24px\"viewBox=\"0 0 24 24\"\n",
              "       width=\"24px\">\n",
              "    <path d=\"M0 0h24v24H0V0z\" fill=\"none\"/>\n",
              "    <path d=\"M18.56 5.44l.94 2.06.94-2.06 2.06-.94-2.06-.94-.94-2.06-.94 2.06-2.06.94zm-11 1L8.5 8.5l.94-2.06 2.06-.94-2.06-.94L8.5 2.5l-.94 2.06-2.06.94zm10 10l.94 2.06.94-2.06 2.06-.94-2.06-.94-.94-2.06-.94 2.06-2.06.94z\"/><path d=\"M17.41 7.96l-1.37-1.37c-.4-.4-.92-.59-1.43-.59-.52 0-1.04.2-1.43.59L10.3 9.45l-7.72 7.72c-.78.78-.78 2.05 0 2.83L4 21.41c.39.39.9.59 1.41.59.51 0 1.02-.2 1.41-.59l7.78-7.78 2.81-2.81c.8-.78.8-2.07 0-2.86zM5.41 20L4 18.59l7.72-7.72 1.47 1.35L5.41 20z\"/>\n",
              "  </svg>\n",
              "      </button>\n",
              "      \n",
              "  <style>\n",
              "    .colab-df-container {\n",
              "      display:flex;\n",
              "      flex-wrap:wrap;\n",
              "      gap: 12px;\n",
              "    }\n",
              "\n",
              "    .colab-df-convert {\n",
              "      background-color: #E8F0FE;\n",
              "      border: none;\n",
              "      border-radius: 50%;\n",
              "      cursor: pointer;\n",
              "      display: none;\n",
              "      fill: #1967D2;\n",
              "      height: 32px;\n",
              "      padding: 0 0 0 0;\n",
              "      width: 32px;\n",
              "    }\n",
              "\n",
              "    .colab-df-convert:hover {\n",
              "      background-color: #E2EBFA;\n",
              "      box-shadow: 0px 1px 2px rgba(60, 64, 67, 0.3), 0px 1px 3px 1px rgba(60, 64, 67, 0.15);\n",
              "      fill: #174EA6;\n",
              "    }\n",
              "\n",
              "    [theme=dark] .colab-df-convert {\n",
              "      background-color: #3B4455;\n",
              "      fill: #D2E3FC;\n",
              "    }\n",
              "\n",
              "    [theme=dark] .colab-df-convert:hover {\n",
              "      background-color: #434B5C;\n",
              "      box-shadow: 0px 1px 3px 1px rgba(0, 0, 0, 0.15);\n",
              "      filter: drop-shadow(0px 1px 2px rgba(0, 0, 0, 0.3));\n",
              "      fill: #FFFFFF;\n",
              "    }\n",
              "  </style>\n",
              "\n",
              "      <script>\n",
              "        const buttonEl =\n",
              "          document.querySelector('#df-272e27a2-f3d3-4417-a156-d902797e97e3 button.colab-df-convert');\n",
              "        buttonEl.style.display =\n",
              "          google.colab.kernel.accessAllowed ? 'block' : 'none';\n",
              "\n",
              "        async function convertToInteractive(key) {\n",
              "          const element = document.querySelector('#df-272e27a2-f3d3-4417-a156-d902797e97e3');\n",
              "          const dataTable =\n",
              "            await google.colab.kernel.invokeFunction('convertToInteractive',\n",
              "                                                     [key], {});\n",
              "          if (!dataTable) return;\n",
              "\n",
              "          const docLinkHtml = 'Like what you see? Visit the ' +\n",
              "            '<a target=\"_blank\" href=https://colab.research.google.com/notebooks/data_table.ipynb>data table notebook</a>'\n",
              "            + ' to learn more about interactive tables.';\n",
              "          element.innerHTML = '';\n",
              "          dataTable['output_type'] = 'display_data';\n",
              "          await google.colab.output.renderOutput(dataTable, element);\n",
              "          const docLink = document.createElement('div');\n",
              "          docLink.innerHTML = docLinkHtml;\n",
              "          element.appendChild(docLink);\n",
              "        }\n",
              "      </script>\n",
              "    </div>\n",
              "  </div>\n",
              "  "
            ]
          },
          "metadata": {},
          "execution_count": 54
        }
      ]
    },
    {
      "cell_type": "markdown",
      "source": [
        "counts the category of tweets"
      ],
      "metadata": {
        "id": "5HUhyl5hGtaH"
      }
    },
    {
      "cell_type": "code",
      "source": [
        "data['Category'].value_counts()"
      ],
      "metadata": {
        "colab": {
          "base_uri": "https://localhost:8080/"
        },
        "id": "SZU5Icy1PzOY",
        "outputId": "58f5d426-a63f-402f-e3fb-89387fb31a5c"
      },
      "execution_count": 55,
      "outputs": [
        {
          "output_type": "execute_result",
          "data": {
            "text/plain": [
              "Neutral     5798\n",
              "Positive    3213\n",
              "Negative     989\n",
              "Name: Category, dtype: int64"
            ]
          },
          "metadata": {},
          "execution_count": 55
        }
      ]
    },
    {
      "cell_type": "markdown",
      "source": [
        "this shows that there are more numbe rof neutral tweets"
      ],
      "metadata": {
        "id": "2EfTXjloGwdd"
      }
    },
    {
      "cell_type": "markdown",
      "source": [
        "lets create a plot for the category of tweets for better understanding"
      ],
      "metadata": {
        "id": "37ygq7GOG9sz"
      }
    },
    {
      "cell_type": "code",
      "source": [
        "plt.figure(figsize=(8,8))\n",
        "ax=sns.countplot(x='Category',data=data,palette='viridis')\n",
        "plt.title(\"Count of Tweets as per Category\")\n",
        "plt.xlabel('Category of Tweets')\n",
        "plt.ylabel('Count of Tweets')\n",
        "for bars in ax.containers:\n",
        "    ax.bar_label(bars)"
      ],
      "metadata": {
        "colab": {
          "base_uri": "https://localhost:8080/",
          "height": 718
        },
        "id": "jiHt1cXzcAA9",
        "outputId": "b246fa06-b4da-4fcc-ae69-1e219f590f13"
      },
      "execution_count": 56,
      "outputs": [
        {
          "output_type": "display_data",
          "data": {
            "text/plain": [
              "<Figure size 800x800 with 1 Axes>"
            ],
            "image/png": "[encoded data removed]"
          },
          "metadata": {}
        }
      ]
    },
    {
      "cell_type": "markdown",
      "source": [
        "creating a new column that represnts int number for the category"
      ],
      "metadata": {
        "id": "IqkuA7CrJfVb"
      }
    },
    {
      "cell_type": "code",
      "source": [
        "data['Category_label']=data['Category'].map({'Positive':1,'Negative':-1,'Neutral':0})"
      ],
      "metadata": {
        "id": "yH3D214bJQYc"
      },
      "execution_count": 69,
      "outputs": []
    },
    {
      "cell_type": "code",
      "source": [
        "data.head()"
      ],
      "metadata": {
        "colab": {
          "base_uri": "https://localhost:8080/",
          "height": 510
        },
        "id": "_XNIlr8aJbKn",
        "outputId": "6c31321c-5af8-42f1-d092-7812e82a56c2"
      },
      "execution_count": 70,
      "outputs": [
        {
          "output_type": "execute_result",
          "data": {
            "text/plain": [
              "         Date Created  Number of Likes  \\\n",
              "0 2023-06-30 09:21:00                0   \n",
              "1 2023-06-30 09:20:57                0   \n",
              "2 2023-06-30 09:20:22                0   \n",
              "3 2023-06-30 09:20:00                3   \n",
              "4 2023-06-30 09:15:22                3   \n",
              "\n",
              "                                              Tweets        Date  Day  Month  \\\n",
              "0  #ENGvAUS #ENGvsAUS #AUSvENG #AUSvsENG #Adipuru...  2023-06-30   30      6   \n",
              "1  Now Playing!! Book Your Ticket Now!! 🎥🍿🎟️\\n@go...  2023-06-30   30      6   \n",
              "2                             @ponilemova #Adipurush  2023-06-30   30      6   \n",
              "3  Adipurush VS 72 Hoorain VS The Kerala Story Co...  2023-06-30   30      6   \n",
              "4             ST: #Adipurush https://t.co/lsGKcgQuKL  2023-06-30   30      6   \n",
              "\n",
              "   Year                Time  Hour  Minutes  Seconds  \\\n",
              "0  2023 2023-07-09 09:21:00     9       21        0   \n",
              "1  2023 2023-07-09 09:20:57     9       20       57   \n",
              "2  2023 2023-07-09 09:20:22     9       20       22   \n",
              "3  2023 2023-07-09 09:20:00     9       20        0   \n",
              "4  2023 2023-07-09 09:15:22     9       15       22   \n",
              "\n",
              "                                      Cleaned_Tweets  Category  Category_label  \n",
              "0  [engvaus, engvsaus, ausveng, ausvseng, adipuru...  Positive               1  \n",
              "1  [playing, book, ticket, gopalancinemas, movies...   Neutral               0  \n",
              "2                            [ponilemova, adipurush]   Neutral               0  \n",
              "3  [adipurush, vs, hoorain, vs, kerala, story, co...   Neutral               0  \n",
              "4                             [st, adipurush, https]   Neutral               0  "
            ],
            "text/html": [
              "\n",
              "  <div id=\"df-21eca6e7-9496-44a0-8d47-64bbb8b53643\">\n",
              "    <div class=\"colab-df-container\">\n",
              "      <div>\n",
              "<style scoped>\n",
              "    .dataframe tbody tr th:only-of-type {\n",
              "        vertical-align: middle;\n",
              "    }\n",
              "\n",
              "    .dataframe tbody tr th {\n",
              "        vertical-align: top;\n",
              "    }\n",
              "\n",
              "    .dataframe thead th {\n",
              "        text-align: right;\n",
              "    }\n",
              "</style>\n",
              "<table border=\"1\" class=\"dataframe\">\n",
              "  <thead>\n",
              "    <tr style=\"text-align: right;\">\n",
              "      <th></th>\n",
              "      <th>Date Created</th>\n",
              "      <th>Number of Likes</th>\n",
              "      <th>Tweets</th>\n",
              "      <th>Date</th>\n",
              "      <th>Day</th>\n",
              "      <th>Month</th>\n",
              "      <th>Year</th>\n",
              "      <th>Time</th>\n",
              "      <th>Hour</th>\n",
              "      <th>Minutes</th>\n",
              "      <th>Seconds</th>\n",
              "      <th>Cleaned_Tweets</th>\n",
              "      <th>Category</th>\n",
              "      <th>Category_label</th>\n",
              "    </tr>\n",
              "  </thead>\n",
              "  <tbody>\n",
              "    <tr>\n",
              "      <th>0</th>\n",
              "      <td>2023-06-30 09:21:00</td>\n",
              "      <td>0</td>\n",
              "      <td>#ENGvAUS #ENGvsAUS #AUSvENG #AUSvsENG #Adipuru...</td>\n",
              "      <td>2023-06-30</td>\n",
              "      <td>30</td>\n",
              "      <td>6</td>\n",
              "      <td>2023</td>\n",
              "      <td>2023-07-09 09:21:00</td>\n",
              "      <td>9</td>\n",
              "      <td>21</td>\n",
              "      <td>0</td>\n",
              "      <td>[engvaus, engvsaus, ausveng, ausvseng, adipuru...</td>\n",
              "      <td>Positive</td>\n",
              "      <td>1</td>\n",
              "    </tr>\n",
              "    <tr>\n",
              "      <th>1</th>\n",
              "      <td>2023-06-30 09:20:57</td>\n",
              "      <td>0</td>\n",
              "      <td>Now Playing!! Book Your Ticket Now!! 🎥🍿🎟️\\n@go...</td>\n",
              "      <td>2023-06-30</td>\n",
              "      <td>30</td>\n",
              "      <td>6</td>\n",
              "      <td>2023</td>\n",
              "      <td>2023-07-09 09:20:57</td>\n",
              "      <td>9</td>\n",
              "      <td>20</td>\n",
              "      <td>57</td>\n",
              "      <td>[playing, book, ticket, gopalancinemas, movies...</td>\n",
              "      <td>Neutral</td>\n",
              "      <td>0</td>\n",
              "    </tr>\n",
              "    <tr>\n",
              "      <th>2</th>\n",
              "      <td>2023-06-30 09:20:22</td>\n",
              "      <td>0</td>\n",
              "      <td>@ponilemova #Adipurush</td>\n",
              "      <td>2023-06-30</td>\n",
              "      <td>30</td>\n",
              "      <td>6</td>\n",
              "      <td>2023</td>\n",
              "      <td>2023-07-09 09:20:22</td>\n",
              "      <td>9</td>\n",
              "      <td>20</td>\n",
              "      <td>22</td>\n",
              "      <td>[ponilemova, adipurush]</td>\n",
              "      <td>Neutral</td>\n",
              "      <td>0</td>\n",
              "    </tr>\n",
              "    <tr>\n",
              "      <th>3</th>\n",
              "      <td>2023-06-30 09:20:00</td>\n",
              "      <td>3</td>\n",
              "      <td>Adipurush VS 72 Hoorain VS The Kerala Story Co...</td>\n",
              "      <td>2023-06-30</td>\n",
              "      <td>30</td>\n",
              "      <td>6</td>\n",
              "      <td>2023</td>\n",
              "      <td>2023-07-09 09:20:00</td>\n",
              "      <td>9</td>\n",
              "      <td>20</td>\n",
              "      <td>0</td>\n",
              "      <td>[adipurush, vs, hoorain, vs, kerala, story, co...</td>\n",
              "      <td>Neutral</td>\n",
              "      <td>0</td>\n",
              "    </tr>\n",
              "    <tr>\n",
              "      <th>4</th>\n",
              "      <td>2023-06-30 09:15:22</td>\n",
              "      <td>3</td>\n",
              "      <td>ST: #Adipurush https://t.co/lsGKcgQuKL</td>\n",
              "      <td>2023-06-30</td>\n",
              "      <td>30</td>\n",
              "      <td>6</td>\n",
              "      <td>2023</td>\n",
              "      <td>2023-07-09 09:15:22</td>\n",
              "      <td>9</td>\n",
              "      <td>15</td>\n",
              "      <td>22</td>\n",
              "      <td>[st, adipurush, https]</td>\n",
              "      <td>Neutral</td>\n",
              "      <td>0</td>\n",
              "    </tr>\n",
              "  </tbody>\n",
              "</table>\n",
              "</div>\n",
              "      <button class=\"colab-df-convert\" onclick=\"convertToInteractive('df-21eca6e7-9496-44a0-8d47-64bbb8b53643')\"\n",
              "              title=\"Convert this dataframe to an interactive table.\"\n",
              "              style=\"display:none;\">\n",
              "        \n",
              "  <svg xmlns=\"http://www.w3.org/2000/svg\" height=\"24px\"viewBox=\"0 0 24 24\"\n",
              "       width=\"24px\">\n",
              "    <path d=\"M0 0h24v24H0V0z\" fill=\"none\"/>\n",
              "    <path d=\"M18.56 5.44l.94 2.06.94-2.06 2.06-.94-2.06-.94-.94-2.06-.94 2.06-2.06.94zm-11 1L8.5 8.5l.94-2.06 2.06-.94-2.06-.94L8.5 2.5l-.94 2.06-2.06.94zm10 10l.94 2.06.94-2.06 2.06-.94-2.06-.94-.94-2.06-.94 2.06-2.06.94z\"/><path d=\"M17.41 7.96l-1.37-1.37c-.4-.4-.92-.59-1.43-.59-.52 0-1.04.2-1.43.59L10.3 9.45l-7.72 7.72c-.78.78-.78 2.05 0 2.83L4 21.41c.39.39.9.59 1.41.59.51 0 1.02-.2 1.41-.59l7.78-7.78 2.81-2.81c.8-.78.8-2.07 0-2.86zM5.41 20L4 18.59l7.72-7.72 1.47 1.35L5.41 20z\"/>\n",
              "  </svg>\n",
              "      </button>\n",
              "      \n",
              "  <style>\n",
              "    .colab-df-container {\n",
              "      display:flex;\n",
              "      flex-wrap:wrap;\n",
              "      gap: 12px;\n",
              "    }\n",
              "\n",
              "    .colab-df-convert {\n",
              "      background-color: #E8F0FE;\n",
              "      border: none;\n",
              "      border-radius: 50%;\n",
              "      cursor: pointer;\n",
              "      display: none;\n",
              "      fill: #1967D2;\n",
              "      height: 32px;\n",
              "      padding: 0 0 0 0;\n",
              "      width: 32px;\n",
              "    }\n",
              "\n",
              "    .colab-df-convert:hover {\n",
              "      background-color: #E2EBFA;\n",
              "      box-shadow: 0px 1px 2px rgba(60, 64, 67, 0.3), 0px 1px 3px 1px rgba(60, 64, 67, 0.15);\n",
              "      fill: #174EA6;\n",
              "    }\n",
              "\n",
              "    [theme=dark] .colab-df-convert {\n",
              "      background-color: #3B4455;\n",
              "      fill: #D2E3FC;\n",
              "    }\n",
              "\n",
              "    [theme=dark] .colab-df-convert:hover {\n",
              "      background-color: #434B5C;\n",
              "      box-shadow: 0px 1px 3px 1px rgba(0, 0, 0, 0.15);\n",
              "      filter: drop-shadow(0px 1px 2px rgba(0, 0, 0, 0.3));\n",
              "      fill: #FFFFFF;\n",
              "    }\n",
              "  </style>\n",
              "\n",
              "      <script>\n",
              "        const buttonEl =\n",
              "          document.querySelector('#df-21eca6e7-9496-44a0-8d47-64bbb8b53643 button.colab-df-convert');\n",
              "        buttonEl.style.display =\n",
              "          google.colab.kernel.accessAllowed ? 'block' : 'none';\n",
              "\n",
              "        async function convertToInteractive(key) {\n",
              "          const element = document.querySelector('#df-21eca6e7-9496-44a0-8d47-64bbb8b53643');\n",
              "          const dataTable =\n",
              "            await google.colab.kernel.invokeFunction('convertToInteractive',\n",
              "                                                     [key], {});\n",
              "          if (!dataTable) return;\n",
              "\n",
              "          const docLinkHtml = 'Like what you see? Visit the ' +\n",
              "            '<a target=\"_blank\" href=https://colab.research.google.com/notebooks/data_table.ipynb>data table notebook</a>'\n",
              "            + ' to learn more about interactive tables.';\n",
              "          element.innerHTML = '';\n",
              "          dataTable['output_type'] = 'display_data';\n",
              "          await google.colab.output.renderOutput(dataTable, element);\n",
              "          const docLink = document.createElement('div');\n",
              "          docLink.innerHTML = docLinkHtml;\n",
              "          element.appendChild(docLink);\n",
              "        }\n",
              "      </script>\n",
              "    </div>\n",
              "  </div>\n",
              "  "
            ]
          },
          "metadata": {},
          "execution_count": 70
        }
      ]
    },
    {
      "cell_type": "markdown",
      "source": [
        "create a new column for cleaned tweets for model creation"
      ],
      "metadata": {
        "id": "n-Qb1gQ3MIEj"
      }
    },
    {
      "cell_type": "code",
      "source": [
        "data['CT']=data['Tweets'].apply(transform_texts)"
      ],
      "metadata": {
        "id": "LZEjyjxkJMyX"
      },
      "execution_count": 71,
      "outputs": []
    },
    {
      "cell_type": "markdown",
      "source": [
        "# New Section"
      ],
      "metadata": {
        "id": "WJid5kRgm8mu"
      }
    },
    {
      "cell_type": "code",
      "source": [
        "tfidf=TfidfVectorizer()"
      ],
      "metadata": {
        "id": "6uDY40gPIbIL"
      },
      "execution_count": 66,
      "outputs": []
    },
    {
      "cell_type": "code",
      "source": [
        "x=tfidf.fit_transform(data['CT']).toarray()"
      ],
      "metadata": {
        "id": "Gpv3oTCfJw-E"
      },
      "execution_count": 72,
      "outputs": []
    },
    {
      "cell_type": "code",
      "source": [
        "y=data['Category_label'].values"
      ],
      "metadata": {
        "id": "t_e_P5xfJ9Jx"
      },
      "execution_count": 73,
      "outputs": []
    },
    {
      "cell_type": "code",
      "source": [
        "x_train,x_test,y_train,y_test=train_test_split(x,y,test_size=0.20,random_state=3)"
      ],
      "metadata": {
        "id": "JvnwrNSwKCEE"
      },
      "execution_count": 74,
      "outputs": []
    },
    {
      "cell_type": "code",
      "source": [
        "\n",
        "gnb=GaussianNB()"
      ],
      "metadata": {
        "id": "CVuycxzLKQXJ"
      },
      "execution_count": 88,
      "outputs": []
    },
    {
      "cell_type": "code",
      "source": [
        "gnb.fit(x_train,y_train)"
      ],
      "metadata": {
        "colab": {
          "base_uri": "https://localhost:8080/",
          "height": 74
        },
        "id": "gGYFWNVHKY7J",
        "outputId": "cd6b8e4a-8581-46ee-bf88-cd56d7ebdc0f"
      },
      "execution_count": 77,
      "outputs": [
        {
          "output_type": "execute_result",
          "data": {
            "text/plain": [
              "GaussianNB()"
            ],
            "text/html": [
              "<style>#sk-container-id-1 {color: black;background-color: white;}#sk-container-id-1 pre{padding: 0;}#sk-container-id-1 div.sk-toggleable {background-color: white;}#sk-container-id-1 label.sk-toggleable__label {cursor: pointer;display: block;width: 100%;margin-bottom: 0;padding: 0.3em;box-sizing: border-box;text-align: center;}#sk-container-id-1 label.sk-toggleable__label-arrow:before {content: \"▸\";float: left;margin-right: 0.25em;color: #696969;}#sk-container-id-1 label.sk-toggleable__label-arrow:hover:before {color: black;}#sk-container-id-1 div.sk-estimator:hover label.sk-toggleable__label-arrow:before {color: black;}#sk-container-id-1 div.sk-toggleable__content {max-height: 0;max-width: 0;overflow: hidden;text-align: left;background-color: #f0f8ff;}#sk-container-id-1 div.sk-toggleable__content pre {margin: 0.2em;color: black;border-radius: 0.25em;background-color: #f0f8ff;}#sk-container-id-1 input.sk-toggleable__control:checked~div.sk-toggleable__content {max-height: 200px;max-width: 100%;overflow: auto;}#sk-container-id-1 input.sk-toggleable__control:checked~label.sk-toggleable__label-arrow:before {content: \"▾\";}#sk-container-id-1 div.sk-estimator input.sk-toggleable__control:checked~label.sk-toggleable__label {background-color: #d4ebff;}#sk-container-id-1 div.sk-label input.sk-toggleable__control:checked~label.sk-toggleable__label {background-color: #d4ebff;}#sk-container-id-1 input.sk-hidden--visually {border: 0;clip: rect(1px 1px 1px 1px);clip: rect(1px, 1px, 1px, 1px);height: 1px;margin: -1px;overflow: hidden;padding: 0;position: absolute;width: 1px;}#sk-container-id-1 div.sk-estimator {font-family: monospace;background-color: #f0f8ff;border: 1px dotted black;border-radius: 0.25em;box-sizing: border-box;margin-bottom: 0.5em;}#sk-container-id-1 div.sk-estimator:hover {background-color: #d4ebff;}#sk-container-id-1 div.sk-parallel-item::after {content: \"\";width: 100%;border-bottom: 1px solid gray;flex-grow: 1;}#sk-container-id-1 div.sk-label:hover label.sk-toggleable__label {background-color: #d4ebff;}#sk-container-id-1 div.sk-serial::before {content: \"\";position: absolute;border-left: 1px solid gray;box-sizing: border-box;top: 0;bottom: 0;left: 50%;z-index: 0;}#sk-container-id-1 div.sk-serial {display: flex;flex-direction: column;align-items: center;background-color: white;padding-right: 0.2em;padding-left: 0.2em;position: relative;}#sk-container-id-1 div.sk-item {position: relative;z-index: 1;}#sk-container-id-1 div.sk-parallel {display: flex;align-items: stretch;justify-content: center;background-color: white;position: relative;}#sk-container-id-1 div.sk-item::before, #sk-container-id-1 div.sk-parallel-item::before {content: \"\";position: absolute;border-left: 1px solid gray;box-sizing: border-box;top: 0;bottom: 0;left: 50%;z-index: -1;}#sk-container-id-1 div.sk-parallel-item {display: flex;flex-direction: column;z-index: 1;position: relative;background-color: white;}#sk-container-id-1 div.sk-parallel-item:first-child::after {align-self: flex-end;width: 50%;}#sk-container-id-1 div.sk-parallel-item:last-child::after {align-self: flex-start;width: 50%;}#sk-container-id-1 div.sk-parallel-item:only-child::after {width: 0;}#sk-container-id-1 div.sk-dashed-wrapped {border: 1px dashed gray;margin: 0 0.4em 0.5em 0.4em;box-sizing: border-box;padding-bottom: 0.4em;background-color: white;}#sk-container-id-1 div.sk-label label {font-family: monospace;font-weight: bold;display: inline-block;line-height: 1.2em;}#sk-container-id-1 div.sk-label-container {text-align: center;}#sk-container-id-1 div.sk-container {/* jupyter's `normalize.less` sets `[hidden] { display: none; }` but bootstrap.min.css set `[hidden] { display: none !important; }` so we also need the `!important` here to be able to override the default hidden behavior on the sphinx rendered scikit-learn.org. See: https://github.com/scikit-learn/scikit-learn/issues/21755 */display: inline-block !important;position: relative;}#sk-container-id-1 div.sk-text-repr-fallback {display: none;}</style><div id=\"sk-container-id-1\" class=\"sk-top-container\"><div class=\"sk-text-repr-fallback\"><pre>GaussianNB()</pre><b>In a Jupyter environment, please rerun this cell to show the HTML representation or trust the notebook. <br />On GitHub, the HTML representation is unable to render, please try loading this page with nbviewer.org.</b></div><div class=\"sk-container\" hidden><div class=\"sk-item\"><div class=\"sk-estimator sk-toggleable\"><input class=\"sk-toggleable__control sk-hidden--visually\" id=\"sk-estimator-id-1\" type=\"checkbox\" checked><label for=\"sk-estimator-id-1\" class=\"sk-toggleable__label sk-toggleable__label-arrow\">GaussianNB</label><div class=\"sk-toggleable__content\"><pre>GaussianNB()</pre></div></div></div></div></div>"
            ]
          },
          "metadata": {},
          "execution_count": 77
        }
      ]
    },
    {
      "cell_type": "code",
      "source": [
        "predicted_1=gnb.predict(x_test)"
      ],
      "metadata": {
        "id": "vUd-DAbOKq4d"
      },
      "execution_count": 78,
      "outputs": []
    },
    {
      "cell_type": "code",
      "source": [
        "acc_score_gnb=accuracy_score(y_test,predicted_1)"
      ],
      "metadata": {
        "id": "Z-0q4xqQKxaV"
      },
      "execution_count": 79,
      "outputs": []
    },
    {
      "cell_type": "code",
      "source": [
        "acc_score_gnb"
      ],
      "metadata": {
        "colab": {
          "base_uri": "https://localhost:8080/"
        },
        "id": "HM-ad40TK5nx",
        "outputId": "61fa02c5-1972-4d6f-dd91-da2453981326"
      },
      "execution_count": 80,
      "outputs": [
        {
          "output_type": "execute_result",
          "data": {
            "text/plain": [
              "0.4835"
            ]
          },
          "metadata": {},
          "execution_count": 80
        }
      ]
    },
    {
      "cell_type": "code",
      "source": [
        "lr=LogisticRegression()"
      ],
      "metadata": {
        "id": "ZRk6ZDRFK8St"
      },
      "execution_count": 81,
      "outputs": []
    },
    {
      "cell_type": "code",
      "source": [
        "lr.fit(x_train,y_train)"
      ],
      "metadata": {
        "colab": {
          "base_uri": "https://localhost:8080/",
          "height": 213
        },
        "id": "DKgyM8B6LFB_",
        "outputId": "c6f72baa-91d6-408c-c2bf-fef0531f20b2"
      },
      "execution_count": 82,
      "outputs": [
        {
          "output_type": "stream",
          "name": "stderr",
          "text": [
            "/usr/local/lib/python3.10/dist-packages/sklearn/linear_model/_logistic.py:458: ConvergenceWarning: lbfgs failed to converge (status=1):\n",
            "STOP: TOTAL NO. of ITERATIONS REACHED LIMIT.\n",
            "\n",
            "Increase the number of iterations (max_iter) or scale the data as shown in:\n",
            "    https://scikit-learn.org/stable/modules/preprocessing.html\n",
            "Please also refer to the documentation for alternative solver options:\n",
            "    https://scikit-learn.org/stable/modules/linear_model.html#logistic-regression\n",
            "  n_iter_i = _check_optimize_result(\n"
          ]
        },
        {
          "output_type": "execute_result",
          "data": {
            "text/plain": [
              "LogisticRegression()"
            ],
            "text/html": [
              "<style>#sk-container-id-2 {color: black;background-color: white;}#sk-container-id-2 pre{padding: 0;}#sk-container-id-2 div.sk-toggleable {background-color: white;}#sk-container-id-2 label.sk-toggleable__label {cursor: pointer;display: block;width: 100%;margin-bottom: 0;padding: 0.3em;box-sizing: border-box;text-align: center;}#sk-container-id-2 label.sk-toggleable__label-arrow:before {content: \"▸\";float: left;margin-right: 0.25em;color: #696969;}#sk-container-id-2 label.sk-toggleable__label-arrow:hover:before {color: black;}#sk-container-id-2 div.sk-estimator:hover label.sk-toggleable__label-arrow:before {color: black;}#sk-container-id-2 div.sk-toggleable__content {max-height: 0;max-width: 0;overflow: hidden;text-align: left;background-color: #f0f8ff;}#sk-container-id-2 div.sk-toggleable__content pre {margin: 0.2em;color: black;border-radius: 0.25em;background-color: #f0f8ff;}#sk-container-id-2 input.sk-toggleable__control:checked~div.sk-toggleable__content {max-height: 200px;max-width: 100%;overflow: auto;}#sk-container-id-2 input.sk-toggleable__control:checked~label.sk-toggleable__label-arrow:before {content: \"▾\";}#sk-container-id-2 div.sk-estimator input.sk-toggleable__control:checked~label.sk-toggleable__label {background-color: #d4ebff;}#sk-container-id-2 div.sk-label input.sk-toggleable__control:checked~label.sk-toggleable__label {background-color: #d4ebff;}#sk-container-id-2 input.sk-hidden--visually {border: 0;clip: rect(1px 1px 1px 1px);clip: rect(1px, 1px, 1px, 1px);height: 1px;margin: -1px;overflow: hidden;padding: 0;position: absolute;width: 1px;}#sk-container-id-2 div.sk-estimator {font-family: monospace;background-color: #f0f8ff;border: 1px dotted black;border-radius: 0.25em;box-sizing: border-box;margin-bottom: 0.5em;}#sk-container-id-2 div.sk-estimator:hover {background-color: #d4ebff;}#sk-container-id-2 div.sk-parallel-item::after {content: \"\";width: 100%;border-bottom: 1px solid gray;flex-grow: 1;}#sk-container-id-2 div.sk-label:hover label.sk-toggleable__label {background-color: #d4ebff;}#sk-container-id-2 div.sk-serial::before {content: \"\";position: absolute;border-left: 1px solid gray;box-sizing: border-box;top: 0;bottom: 0;left: 50%;z-index: 0;}#sk-container-id-2 div.sk-serial {display: flex;flex-direction: column;align-items: center;background-color: white;padding-right: 0.2em;padding-left: 0.2em;position: relative;}#sk-container-id-2 div.sk-item {position: relative;z-index: 1;}#sk-container-id-2 div.sk-parallel {display: flex;align-items: stretch;justify-content: center;background-color: white;position: relative;}#sk-container-id-2 div.sk-item::before, #sk-container-id-2 div.sk-parallel-item::before {content: \"\";position: absolute;border-left: 1px solid gray;box-sizing: border-box;top: 0;bottom: 0;left: 50%;z-index: -1;}#sk-container-id-2 div.sk-parallel-item {display: flex;flex-direction: column;z-index: 1;position: relative;background-color: white;}#sk-container-id-2 div.sk-parallel-item:first-child::after {align-self: flex-end;width: 50%;}#sk-container-id-2 div.sk-parallel-item:last-child::after {align-self: flex-start;width: 50%;}#sk-container-id-2 div.sk-parallel-item:only-child::after {width: 0;}#sk-container-id-2 div.sk-dashed-wrapped {border: 1px dashed gray;margin: 0 0.4em 0.5em 0.4em;box-sizing: border-box;padding-bottom: 0.4em;background-color: white;}#sk-container-id-2 div.sk-label label {font-family: monospace;font-weight: bold;display: inline-block;line-height: 1.2em;}#sk-container-id-2 div.sk-label-container {text-align: center;}#sk-container-id-2 div.sk-container {/* jupyter's `normalize.less` sets `[hidden] { display: none; }` but bootstrap.min.css set `[hidden] { display: none !important; }` so we also need the `!important` here to be able to override the default hidden behavior on the sphinx rendered scikit-learn.org. See: https://github.com/scikit-learn/scikit-learn/issues/21755 */display: inline-block !important;position: relative;}#sk-container-id-2 div.sk-text-repr-fallback {display: none;}</style><div id=\"sk-container-id-2\" class=\"sk-top-container\"><div class=\"sk-text-repr-fallback\"><pre>LogisticRegression()</pre><b>In a Jupyter environment, please rerun this cell to show the HTML representation or trust the notebook. <br />On GitHub, the HTML representation is unable to render, please try loading this page with nbviewer.org.</b></div><div class=\"sk-container\" hidden><div class=\"sk-item\"><div class=\"sk-estimator sk-toggleable\"><input class=\"sk-toggleable__control sk-hidden--visually\" id=\"sk-estimator-id-2\" type=\"checkbox\" checked><label for=\"sk-estimator-id-2\" class=\"sk-toggleable__label sk-toggleable__label-arrow\">LogisticRegression</label><div class=\"sk-toggleable__content\"><pre>LogisticRegression()</pre></div></div></div></div></div>"
            ]
          },
          "metadata": {},
          "execution_count": 82
        }
      ]
    },
    {
      "cell_type": "code",
      "source": [
        "predicted_2=lr.predict(x_test)"
      ],
      "metadata": {
        "id": "SDK4ZXPiLH9_"
      },
      "execution_count": 83,
      "outputs": []
    },
    {
      "cell_type": "code",
      "source": [
        "acc_score_lr=accuracy_score(y_test,predicted_2)"
      ],
      "metadata": {
        "id": "MeI5aoYqLLtH"
      },
      "execution_count": 84,
      "outputs": []
    },
    {
      "cell_type": "code",
      "source": [
        "acc_score_lr"
      ],
      "metadata": {
        "colab": {
          "base_uri": "https://localhost:8080/"
        },
        "id": "95BAqBhvLRXe",
        "outputId": "090eaa11-d7f3-4f71-f745-0ef9d7fc6bb0"
      },
      "execution_count": 85,
      "outputs": [
        {
          "output_type": "execute_result",
          "data": {
            "text/plain": [
              "0.839"
            ]
          },
          "metadata": {},
          "execution_count": 85
        }
      ]
    },
    {
      "cell_type": "code",
      "source": [
        "print('Accuracy score with GaussianNB model is : ',acc_score_gnb)\n",
        "print('Accuracy score with Logistic Regression model is : ',acc_score_lr)"
      ],
      "metadata": {
        "colab": {
          "base_uri": "https://localhost:8080/"
        },
        "id": "NjBPSkmuLUOY",
        "outputId": "c10c0d44-c996-4d7d-d81d-3d3b99736993"
      },
      "execution_count": 86,
      "outputs": [
        {
          "output_type": "stream",
          "name": "stdout",
          "text": [
            "Accuracy score with GaussianNB model is :  0.4835\n",
            "Accuracy score with Logistic Regression model is :  0.839\n"
          ]
        }
      ]
    },
    {
      "cell_type": "markdown",
      "source": [
        "from the above statements we can see that losgistic regression model works well with tweet analysis then the gaussianNB model"
      ],
      "metadata": {
        "id": "FXPsSB8WL6lx"
      }
    },
    {
      "cell_type": "markdown",
      "source": [
        "using streamlit for web app"
      ],
      "metadata": {
        "id": "jk6_dPXrHQuh"
      }
    },
    {
      "cell_type": "code",
      "source": [
        "st.title(\"Tweet Analyzer\")"
      ],
      "metadata": {
        "colab": {
          "base_uri": "https://localhost:8080/"
        },
        "id": "gg2BKL-ljx4V",
        "outputId": "49f65411-1f2b-4b14-e299-fed209e71751"
      },
      "execution_count": 57,
      "outputs": [
        {
          "output_type": "stream",
          "name": "stderr",
          "text": [
            "2023-07-09 10:05:45.318 \n",
            "  \u001b[33m\u001b[1mWarning:\u001b[0m to view this Streamlit app on a browser, run it with the following\n",
            "  command:\n",
            "\n",
            "    streamlit run /usr/local/lib/python3.10/dist-packages/ipykernel_launcher.py [ARGUMENTS]\n"
          ]
        },
        {
          "output_type": "execute_result",
          "data": {
            "text/plain": [
              "DeltaGenerator()"
            ]
          },
          "metadata": {},
          "execution_count": 57
        }
      ]
    },
    {
      "cell_type": "code",
      "source": [
        "input=st.text_input(\"Enter the Tweet\")\n",
        "\n",
        "submit=st.button('SUBMIT')\n",
        "\n",
        "if submit:\n",
        "  text=analyze(input)\n",
        "  print(\"The tweet is : \",text)"
      ],
      "metadata": {
        "id": "lDbVQjcTj9CH"
      },
      "execution_count": 59,
      "outputs": []
    }
  ]
}